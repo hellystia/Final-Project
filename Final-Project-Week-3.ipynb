{
 "cells": [
  {
   "cell_type": "markdown",
   "id": "85242c9d-a919-482b-92e2-4c3653816fcb",
   "metadata": {},
   "source": [
    "# Bike Sharing Dataset"
   ]
  },
  {
   "cell_type": "code",
   "execution_count": 38,
   "id": "66d818b5-4ca9-4694-85d6-9ce0e4995037",
   "metadata": {},
   "outputs": [],
   "source": [
    "## Github link here: https://github.com/hellystia/Final-Project"
   ]
  },
  {
   "cell_type": "code",
   "execution_count": 39,
   "id": "317d32cf-08bb-4ad1-bced-35f071004337",
   "metadata": {},
   "outputs": [],
   "source": [
    "## This is the key for the data in the spreadsheet."
   ]
  },
  {
   "cell_type": "markdown",
   "id": "b4e0d207-c2b7-4761-9a08-375de25e5bda",
   "metadata": {
    "tags": []
   },
   "source": [
    "<p>\n",
    "    Prediction of bike rental count hourly based on environmental and seasonal settings.\n",
    "<p>\n",
    "    <b> Columns:</b>\n",
    "<p>\n",
    "<li> season: Season (1: Spring, 2: Summer, 3: Fall, 4: Winter)\n",
    "<li> weathersit: (1: Clear, 2: Cloudy, 3: Light Snow, 4: Heavy Rain)\n",
    "<li> yr: year (0: 2011, 1: 2012)\n",
    "<li> mnth: month (1-12)\n",
    "<li> hr: hour (0-23)\n",
    "<li> temp: temp (I was told that this was in Celcius, but it does not make sense given the numnbers.)\n",
    "<li> aTemp: feeling temp \n",
    "<li> Holiday: Does the day fall on a holiday? (0 no, 1 yes)\n",
    "<li> Working day: Does the day fall on a \"working day\" (or, alternatively, a weekend?) (0 no, 1 yes)\n",
    "<li> windspeed: 67 max\n",
    "<li> casual: count of casual users\n",
    "<li> registered: count of registered users\n",
    "<li> cnt: count of total rental  bikes, including casual and registered"
   ]
  },
  {
   "cell_type": "markdown",
   "id": "de563cfe-08b0-483e-94c7-c79c880dca1f",
   "metadata": {},
   "source": [
    "## Import Libraries"
   ]
  },
  {
   "cell_type": "code",
   "execution_count": 40,
   "id": "a1ea33e4-f795-4731-a450-fa4cc295805e",
   "metadata": {},
   "outputs": [],
   "source": [
    "## Start by importing libraries I'll need: pandas, scipy, numpy, and seaborn for data exploration and initial analysis."
   ]
  },
  {
   "cell_type": "code",
   "execution_count": 41,
   "id": "2cd2b146-657f-47b8-968f-e3b42759ad9f",
   "metadata": {},
   "outputs": [],
   "source": [
    "import pandas as pd\n",
    "from scipy import stats\n",
    "from scipy.stats import norm\n",
    "import numpy as np\n",
    "import seaborn as sns"
   ]
  },
  {
   "cell_type": "markdown",
   "id": "dceacb24-1259-416e-b41b-7e0b93f81336",
   "metadata": {},
   "source": [
    "## Load the dataset into a dataframe"
   ]
  },
  {
   "cell_type": "code",
   "execution_count": 42,
   "id": "ff5bd47b-84d0-4839-ba9f-9b544887b77f",
   "metadata": {},
   "outputs": [],
   "source": [
    "## Here we will look at the layout of the data to see how it is presented. \n",
    "## We will look at the first 10 rows with the function .head(10)."
   ]
  },
  {
   "cell_type": "code",
   "execution_count": 43,
   "id": "bac1479e-0bd7-42b5-8138-e5a05a118174",
   "metadata": {},
   "outputs": [],
   "source": [
    "bikes = pd.read_csv(\"C:/Users/Helly/Desktop/Final Project/hour.csv\")"
   ]
  },
  {
   "cell_type": "code",
   "execution_count": 44,
   "id": "bffa6ac0-d01e-45cb-b0d1-e36e568081d5",
   "metadata": {},
   "outputs": [
    {
     "data": {
      "text/html": [
       "<div>\n",
       "<style scoped>\n",
       "    .dataframe tbody tr th:only-of-type {\n",
       "        vertical-align: middle;\n",
       "    }\n",
       "\n",
       "    .dataframe tbody tr th {\n",
       "        vertical-align: top;\n",
       "    }\n",
       "\n",
       "    .dataframe thead th {\n",
       "        text-align: right;\n",
       "    }\n",
       "</style>\n",
       "<table border=\"1\" class=\"dataframe\">\n",
       "  <thead>\n",
       "    <tr style=\"text-align: right;\">\n",
       "      <th></th>\n",
       "      <th>instant</th>\n",
       "      <th>dteday</th>\n",
       "      <th>season</th>\n",
       "      <th>yr</th>\n",
       "      <th>mnth</th>\n",
       "      <th>hr</th>\n",
       "      <th>holiday</th>\n",
       "      <th>weekday</th>\n",
       "      <th>workingday</th>\n",
       "      <th>weathersit</th>\n",
       "      <th>temp</th>\n",
       "      <th>atemp</th>\n",
       "      <th>hum</th>\n",
       "      <th>windspeed</th>\n",
       "      <th>casual</th>\n",
       "      <th>registered</th>\n",
       "      <th>cnt</th>\n",
       "    </tr>\n",
       "  </thead>\n",
       "  <tbody>\n",
       "    <tr>\n",
       "      <th>0</th>\n",
       "      <td>1</td>\n",
       "      <td>1/1/2011</td>\n",
       "      <td>1</td>\n",
       "      <td>0</td>\n",
       "      <td>1</td>\n",
       "      <td>0</td>\n",
       "      <td>0</td>\n",
       "      <td>6</td>\n",
       "      <td>0</td>\n",
       "      <td>1</td>\n",
       "      <td>0.24</td>\n",
       "      <td>0.2879</td>\n",
       "      <td>0.81</td>\n",
       "      <td>0.0000</td>\n",
       "      <td>3</td>\n",
       "      <td>13</td>\n",
       "      <td>16</td>\n",
       "    </tr>\n",
       "    <tr>\n",
       "      <th>1</th>\n",
       "      <td>2</td>\n",
       "      <td>1/1/2011</td>\n",
       "      <td>1</td>\n",
       "      <td>0</td>\n",
       "      <td>1</td>\n",
       "      <td>1</td>\n",
       "      <td>0</td>\n",
       "      <td>6</td>\n",
       "      <td>0</td>\n",
       "      <td>1</td>\n",
       "      <td>0.22</td>\n",
       "      <td>0.2727</td>\n",
       "      <td>0.80</td>\n",
       "      <td>0.0000</td>\n",
       "      <td>8</td>\n",
       "      <td>32</td>\n",
       "      <td>40</td>\n",
       "    </tr>\n",
       "    <tr>\n",
       "      <th>2</th>\n",
       "      <td>3</td>\n",
       "      <td>1/1/2011</td>\n",
       "      <td>1</td>\n",
       "      <td>0</td>\n",
       "      <td>1</td>\n",
       "      <td>2</td>\n",
       "      <td>0</td>\n",
       "      <td>6</td>\n",
       "      <td>0</td>\n",
       "      <td>1</td>\n",
       "      <td>0.22</td>\n",
       "      <td>0.2727</td>\n",
       "      <td>0.80</td>\n",
       "      <td>0.0000</td>\n",
       "      <td>5</td>\n",
       "      <td>27</td>\n",
       "      <td>32</td>\n",
       "    </tr>\n",
       "    <tr>\n",
       "      <th>3</th>\n",
       "      <td>4</td>\n",
       "      <td>1/1/2011</td>\n",
       "      <td>1</td>\n",
       "      <td>0</td>\n",
       "      <td>1</td>\n",
       "      <td>3</td>\n",
       "      <td>0</td>\n",
       "      <td>6</td>\n",
       "      <td>0</td>\n",
       "      <td>1</td>\n",
       "      <td>0.24</td>\n",
       "      <td>0.2879</td>\n",
       "      <td>0.75</td>\n",
       "      <td>0.0000</td>\n",
       "      <td>3</td>\n",
       "      <td>10</td>\n",
       "      <td>13</td>\n",
       "    </tr>\n",
       "    <tr>\n",
       "      <th>4</th>\n",
       "      <td>5</td>\n",
       "      <td>1/1/2011</td>\n",
       "      <td>1</td>\n",
       "      <td>0</td>\n",
       "      <td>1</td>\n",
       "      <td>4</td>\n",
       "      <td>0</td>\n",
       "      <td>6</td>\n",
       "      <td>0</td>\n",
       "      <td>1</td>\n",
       "      <td>0.24</td>\n",
       "      <td>0.2879</td>\n",
       "      <td>0.75</td>\n",
       "      <td>0.0000</td>\n",
       "      <td>0</td>\n",
       "      <td>1</td>\n",
       "      <td>1</td>\n",
       "    </tr>\n",
       "    <tr>\n",
       "      <th>5</th>\n",
       "      <td>6</td>\n",
       "      <td>1/1/2011</td>\n",
       "      <td>1</td>\n",
       "      <td>0</td>\n",
       "      <td>1</td>\n",
       "      <td>5</td>\n",
       "      <td>0</td>\n",
       "      <td>6</td>\n",
       "      <td>0</td>\n",
       "      <td>2</td>\n",
       "      <td>0.24</td>\n",
       "      <td>0.2576</td>\n",
       "      <td>0.75</td>\n",
       "      <td>0.0896</td>\n",
       "      <td>0</td>\n",
       "      <td>1</td>\n",
       "      <td>1</td>\n",
       "    </tr>\n",
       "    <tr>\n",
       "      <th>6</th>\n",
       "      <td>7</td>\n",
       "      <td>1/1/2011</td>\n",
       "      <td>1</td>\n",
       "      <td>0</td>\n",
       "      <td>1</td>\n",
       "      <td>6</td>\n",
       "      <td>0</td>\n",
       "      <td>6</td>\n",
       "      <td>0</td>\n",
       "      <td>1</td>\n",
       "      <td>0.22</td>\n",
       "      <td>0.2727</td>\n",
       "      <td>0.80</td>\n",
       "      <td>0.0000</td>\n",
       "      <td>2</td>\n",
       "      <td>0</td>\n",
       "      <td>2</td>\n",
       "    </tr>\n",
       "    <tr>\n",
       "      <th>7</th>\n",
       "      <td>8</td>\n",
       "      <td>1/1/2011</td>\n",
       "      <td>1</td>\n",
       "      <td>0</td>\n",
       "      <td>1</td>\n",
       "      <td>7</td>\n",
       "      <td>0</td>\n",
       "      <td>6</td>\n",
       "      <td>0</td>\n",
       "      <td>1</td>\n",
       "      <td>0.20</td>\n",
       "      <td>0.2576</td>\n",
       "      <td>0.86</td>\n",
       "      <td>0.0000</td>\n",
       "      <td>1</td>\n",
       "      <td>2</td>\n",
       "      <td>3</td>\n",
       "    </tr>\n",
       "    <tr>\n",
       "      <th>8</th>\n",
       "      <td>9</td>\n",
       "      <td>1/1/2011</td>\n",
       "      <td>1</td>\n",
       "      <td>0</td>\n",
       "      <td>1</td>\n",
       "      <td>8</td>\n",
       "      <td>0</td>\n",
       "      <td>6</td>\n",
       "      <td>0</td>\n",
       "      <td>1</td>\n",
       "      <td>0.24</td>\n",
       "      <td>0.2879</td>\n",
       "      <td>0.75</td>\n",
       "      <td>0.0000</td>\n",
       "      <td>1</td>\n",
       "      <td>7</td>\n",
       "      <td>8</td>\n",
       "    </tr>\n",
       "    <tr>\n",
       "      <th>9</th>\n",
       "      <td>10</td>\n",
       "      <td>1/1/2011</td>\n",
       "      <td>1</td>\n",
       "      <td>0</td>\n",
       "      <td>1</td>\n",
       "      <td>9</td>\n",
       "      <td>0</td>\n",
       "      <td>6</td>\n",
       "      <td>0</td>\n",
       "      <td>1</td>\n",
       "      <td>0.32</td>\n",
       "      <td>0.3485</td>\n",
       "      <td>0.76</td>\n",
       "      <td>0.0000</td>\n",
       "      <td>8</td>\n",
       "      <td>6</td>\n",
       "      <td>14</td>\n",
       "    </tr>\n",
       "  </tbody>\n",
       "</table>\n",
       "</div>"
      ],
      "text/plain": [
       "   instant    dteday  season  yr  mnth  hr  holiday  weekday  workingday  \\\n",
       "0        1  1/1/2011       1   0     1   0        0        6           0   \n",
       "1        2  1/1/2011       1   0     1   1        0        6           0   \n",
       "2        3  1/1/2011       1   0     1   2        0        6           0   \n",
       "3        4  1/1/2011       1   0     1   3        0        6           0   \n",
       "4        5  1/1/2011       1   0     1   4        0        6           0   \n",
       "5        6  1/1/2011       1   0     1   5        0        6           0   \n",
       "6        7  1/1/2011       1   0     1   6        0        6           0   \n",
       "7        8  1/1/2011       1   0     1   7        0        6           0   \n",
       "8        9  1/1/2011       1   0     1   8        0        6           0   \n",
       "9       10  1/1/2011       1   0     1   9        0        6           0   \n",
       "\n",
       "   weathersit  temp   atemp   hum  windspeed  casual  registered  cnt  \n",
       "0           1  0.24  0.2879  0.81     0.0000       3          13   16  \n",
       "1           1  0.22  0.2727  0.80     0.0000       8          32   40  \n",
       "2           1  0.22  0.2727  0.80     0.0000       5          27   32  \n",
       "3           1  0.24  0.2879  0.75     0.0000       3          10   13  \n",
       "4           1  0.24  0.2879  0.75     0.0000       0           1    1  \n",
       "5           2  0.24  0.2576  0.75     0.0896       0           1    1  \n",
       "6           1  0.22  0.2727  0.80     0.0000       2           0    2  \n",
       "7           1  0.20  0.2576  0.86     0.0000       1           2    3  \n",
       "8           1  0.24  0.2879  0.75     0.0000       1           7    8  \n",
       "9           1  0.32  0.3485  0.76     0.0000       8           6   14  "
      ]
     },
     "execution_count": 44,
     "metadata": {},
     "output_type": "execute_result"
    }
   ],
   "source": [
    "bikes.head(10)"
   ]
  },
  {
   "cell_type": "markdown",
   "id": "4a3c05cf-1580-461c-9674-3b5c42b32f14",
   "metadata": {},
   "source": [
    "<p>\n",
    "<b> Observations About the Initial Data Set </b>\n",
    "<p>\n",
    "<li> The dates (dteday) will need to be reformatted for analysis.\n",
    "<li> The season, year, holiday, weekday, workingday, and weather columns are already recoded, but I will replicate this for the project.\n",
    "<li> It appears that each day has rentals divided into rentals per hour. \n",
    "<li> The humidity is in decimal format, which means I will have to convert it to a percentage.\n",
    "<li> The temperature appears to be in Celcius. I don't imagine many people would rent bikes if it's 20 degrees Fahrenheit.\n",
    "<li> The registered versus casual counts could be interesting to compare, as they seem to differ quite a bit."
   ]
  },
  {
   "cell_type": "markdown",
   "id": "97215df2-cb5f-4795-b877-f0dff743a07a",
   "metadata": {},
   "source": [
    "## Pre-Processing: Data Wrangling/Data Analysis"
   ]
  },
  {
   "cell_type": "markdown",
   "id": "9cb723c3-38b0-4f0d-8724-20d5a7af204e",
   "metadata": {},
   "source": [
    "### Descriptive Statistics"
   ]
  },
  {
   "cell_type": "markdown",
   "id": "3abbb124-4b0e-4d11-9863-8abf918cd514",
   "metadata": {},
   "source": [
    "<p>\n",
    "Descriptive statistics will cover:\n",
    "    <p>\n",
    "<li>The item count \n",
    "<li>Measures of central tendency: mean, median, and mode.\n",
    "<li>Standard deviation, quartiles, and interquartile ranges."
   ]
  },
  {
   "cell_type": "markdown",
   "id": "4cea9154-3eaa-4466-9e66-1bfe7350838a",
   "metadata": {},
   "source": [
    "#### Count"
   ]
  },
  {
   "cell_type": "code",
   "execution_count": 45,
   "id": "45416196-b106-4c45-83bc-7f1b079a5978",
   "metadata": {},
   "outputs": [
    {
     "data": {
      "text/plain": [
       "instant       17379\n",
       "dteday        17379\n",
       "season        17379\n",
       "yr            17379\n",
       "mnth          17379\n",
       "hr            17379\n",
       "holiday       17379\n",
       "weekday       17379\n",
       "workingday    17379\n",
       "weathersit    17379\n",
       "temp          17379\n",
       "atemp         17379\n",
       "hum           17379\n",
       "windspeed     17379\n",
       "casual        17379\n",
       "registered    17379\n",
       "cnt           17379\n",
       "dtype: int64"
      ]
     },
     "execution_count": 45,
     "metadata": {},
     "output_type": "execute_result"
    }
   ],
   "source": [
    "bikes.count()"
   ]
  },
  {
   "cell_type": "code",
   "execution_count": 46,
   "id": "1e45d42a-b748-4cfa-abba-47443e7745bb",
   "metadata": {},
   "outputs": [],
   "source": [
    "## The count is the same for all of these because this is the number of rows in the data set."
   ]
  },
  {
   "cell_type": "markdown",
   "id": "f995f221-83ac-432a-96f8-cf00792c8c92",
   "metadata": {},
   "source": [
    "#### Mean"
   ]
  },
  {
   "cell_type": "code",
   "execution_count": 48,
   "id": "e4ba7c06-e872-43ec-bc15-37d7e024ac18",
   "metadata": {},
   "outputs": [
    {
     "name": "stderr",
     "output_type": "stream",
     "text": [
      "C:\\Users\\Helly\\AppData\\Local\\Temp/ipykernel_17712/1754243642.py:1: FutureWarning: Dropping of nuisance columns in DataFrame reductions (with 'numeric_only=None') is deprecated; in a future version this will raise TypeError.  Select only valid columns before calling the reduction.\n",
      "  bikes.mean()\n"
     ]
    },
    {
     "data": {
      "text/plain": [
       "instant       8690.000000\n",
       "season           2.501640\n",
       "yr               0.502561\n",
       "mnth             6.537775\n",
       "hr              11.546752\n",
       "holiday          0.028770\n",
       "weekday          3.003683\n",
       "workingday       0.682721\n",
       "weathersit       1.425283\n",
       "temp             0.496987\n",
       "atemp            0.475775\n",
       "hum              0.627229\n",
       "windspeed        0.190098\n",
       "casual          35.676218\n",
       "registered     153.786869\n",
       "cnt            189.463088\n",
       "dtype: float64"
      ]
     },
     "execution_count": 48,
     "metadata": {},
     "output_type": "execute_result"
    }
   ],
   "source": [
    "bikes.mean()"
   ]
  },
  {
   "cell_type": "code",
   "execution_count": 49,
   "id": "3550fcdb-e65e-45d9-84ff-d6c2e660b8cc",
   "metadata": {},
   "outputs": [],
   "source": [
    "## The mean is useful for a few of these categories: Hour, Weekday, Temp, aTemp, Humidity, Windspeed, Casual, Registered, and Cnt."
   ]
  },
  {
   "cell_type": "markdown",
   "id": "c04f1552-8ce3-488c-b0e4-4e1092560fa5",
   "metadata": {},
   "source": [
    "#### Median"
   ]
  },
  {
   "cell_type": "code",
   "execution_count": 50,
   "id": "d52894c2-b27a-4829-95e4-a2a1346137f3",
   "metadata": {},
   "outputs": [
    {
     "name": "stderr",
     "output_type": "stream",
     "text": [
      "C:\\Users\\Helly\\AppData\\Local\\Temp/ipykernel_17712/4100074620.py:1: FutureWarning: Dropping of nuisance columns in DataFrame reductions (with 'numeric_only=None') is deprecated; in a future version this will raise TypeError.  Select only valid columns before calling the reduction.\n",
      "  bikes.median()\n"
     ]
    },
    {
     "data": {
      "text/plain": [
       "instant       8690.0000\n",
       "season           3.0000\n",
       "yr               1.0000\n",
       "mnth             7.0000\n",
       "hr              12.0000\n",
       "holiday          0.0000\n",
       "weekday          3.0000\n",
       "workingday       1.0000\n",
       "weathersit       1.0000\n",
       "temp             0.5000\n",
       "atemp            0.4848\n",
       "hum              0.6300\n",
       "windspeed        0.1940\n",
       "casual          17.0000\n",
       "registered     115.0000\n",
       "cnt            142.0000\n",
       "dtype: float64"
      ]
     },
     "execution_count": 50,
     "metadata": {},
     "output_type": "execute_result"
    }
   ],
   "source": [
    "bikes.median()"
   ]
  },
  {
   "cell_type": "code",
   "execution_count": 52,
   "id": "40ab9e7e-8503-4f52-aea3-84103dd2a081",
   "metadata": {},
   "outputs": [],
   "source": [
    "## These numbers aren't terribly different other than the rental counts. \n",
    "## Perhaps this is due to some days with \"surges\" in rentals. We will see in the max/min section."
   ]
  },
  {
   "cell_type": "markdown",
   "id": "573251a0-1dcc-4079-8ff0-5df82d728ef3",
   "metadata": {},
   "source": [
    "#### Mode"
   ]
  },
  {
   "cell_type": "code",
   "execution_count": 53,
   "id": "42b4a754-1ba0-45d8-8a65-242bcb1dd020",
   "metadata": {},
   "outputs": [
    {
     "data": {
      "text/html": [
       "<div>\n",
       "<style scoped>\n",
       "    .dataframe tbody tr th:only-of-type {\n",
       "        vertical-align: middle;\n",
       "    }\n",
       "\n",
       "    .dataframe tbody tr th {\n",
       "        vertical-align: top;\n",
       "    }\n",
       "\n",
       "    .dataframe thead th {\n",
       "        text-align: right;\n",
       "    }\n",
       "</style>\n",
       "<table border=\"1\" class=\"dataframe\">\n",
       "  <thead>\n",
       "    <tr style=\"text-align: right;\">\n",
       "      <th></th>\n",
       "      <th>instant</th>\n",
       "      <th>dteday</th>\n",
       "      <th>season</th>\n",
       "      <th>yr</th>\n",
       "      <th>mnth</th>\n",
       "      <th>hr</th>\n",
       "      <th>holiday</th>\n",
       "      <th>weekday</th>\n",
       "      <th>workingday</th>\n",
       "      <th>weathersit</th>\n",
       "      <th>temp</th>\n",
       "      <th>atemp</th>\n",
       "      <th>hum</th>\n",
       "      <th>windspeed</th>\n",
       "      <th>casual</th>\n",
       "      <th>registered</th>\n",
       "      <th>cnt</th>\n",
       "    </tr>\n",
       "  </thead>\n",
       "  <tbody>\n",
       "    <tr>\n",
       "      <th>0</th>\n",
       "      <td>1</td>\n",
       "      <td>1/1/2011</td>\n",
       "      <td>3.0</td>\n",
       "      <td>1.0</td>\n",
       "      <td>5.0</td>\n",
       "      <td>16.0</td>\n",
       "      <td>0.0</td>\n",
       "      <td>6.0</td>\n",
       "      <td>1.0</td>\n",
       "      <td>1.0</td>\n",
       "      <td>0.62</td>\n",
       "      <td>0.6212</td>\n",
       "      <td>0.88</td>\n",
       "      <td>0.0</td>\n",
       "      <td>0.0</td>\n",
       "      <td>4.0</td>\n",
       "      <td>5.0</td>\n",
       "    </tr>\n",
       "    <tr>\n",
       "      <th>1</th>\n",
       "      <td>2</td>\n",
       "      <td>1/1/2012</td>\n",
       "      <td>NaN</td>\n",
       "      <td>NaN</td>\n",
       "      <td>7.0</td>\n",
       "      <td>17.0</td>\n",
       "      <td>NaN</td>\n",
       "      <td>NaN</td>\n",
       "      <td>NaN</td>\n",
       "      <td>NaN</td>\n",
       "      <td>NaN</td>\n",
       "      <td>NaN</td>\n",
       "      <td>NaN</td>\n",
       "      <td>NaN</td>\n",
       "      <td>NaN</td>\n",
       "      <td>NaN</td>\n",
       "      <td>NaN</td>\n",
       "    </tr>\n",
       "    <tr>\n",
       "      <th>2</th>\n",
       "      <td>3</td>\n",
       "      <td>1/10/2011</td>\n",
       "      <td>NaN</td>\n",
       "      <td>NaN</td>\n",
       "      <td>NaN</td>\n",
       "      <td>NaN</td>\n",
       "      <td>NaN</td>\n",
       "      <td>NaN</td>\n",
       "      <td>NaN</td>\n",
       "      <td>NaN</td>\n",
       "      <td>NaN</td>\n",
       "      <td>NaN</td>\n",
       "      <td>NaN</td>\n",
       "      <td>NaN</td>\n",
       "      <td>NaN</td>\n",
       "      <td>NaN</td>\n",
       "      <td>NaN</td>\n",
       "    </tr>\n",
       "    <tr>\n",
       "      <th>3</th>\n",
       "      <td>4</td>\n",
       "      <td>1/11/2012</td>\n",
       "      <td>NaN</td>\n",
       "      <td>NaN</td>\n",
       "      <td>NaN</td>\n",
       "      <td>NaN</td>\n",
       "      <td>NaN</td>\n",
       "      <td>NaN</td>\n",
       "      <td>NaN</td>\n",
       "      <td>NaN</td>\n",
       "      <td>NaN</td>\n",
       "      <td>NaN</td>\n",
       "      <td>NaN</td>\n",
       "      <td>NaN</td>\n",
       "      <td>NaN</td>\n",
       "      <td>NaN</td>\n",
       "      <td>NaN</td>\n",
       "    </tr>\n",
       "    <tr>\n",
       "      <th>4</th>\n",
       "      <td>5</td>\n",
       "      <td>1/12/2012</td>\n",
       "      <td>NaN</td>\n",
       "      <td>NaN</td>\n",
       "      <td>NaN</td>\n",
       "      <td>NaN</td>\n",
       "      <td>NaN</td>\n",
       "      <td>NaN</td>\n",
       "      <td>NaN</td>\n",
       "      <td>NaN</td>\n",
       "      <td>NaN</td>\n",
       "      <td>NaN</td>\n",
       "      <td>NaN</td>\n",
       "      <td>NaN</td>\n",
       "      <td>NaN</td>\n",
       "      <td>NaN</td>\n",
       "      <td>NaN</td>\n",
       "    </tr>\n",
       "    <tr>\n",
       "      <th>...</th>\n",
       "      <td>...</td>\n",
       "      <td>...</td>\n",
       "      <td>...</td>\n",
       "      <td>...</td>\n",
       "      <td>...</td>\n",
       "      <td>...</td>\n",
       "      <td>...</td>\n",
       "      <td>...</td>\n",
       "      <td>...</td>\n",
       "      <td>...</td>\n",
       "      <td>...</td>\n",
       "      <td>...</td>\n",
       "      <td>...</td>\n",
       "      <td>...</td>\n",
       "      <td>...</td>\n",
       "      <td>...</td>\n",
       "      <td>...</td>\n",
       "    </tr>\n",
       "    <tr>\n",
       "      <th>17374</th>\n",
       "      <td>17375</td>\n",
       "      <td>NaN</td>\n",
       "      <td>NaN</td>\n",
       "      <td>NaN</td>\n",
       "      <td>NaN</td>\n",
       "      <td>NaN</td>\n",
       "      <td>NaN</td>\n",
       "      <td>NaN</td>\n",
       "      <td>NaN</td>\n",
       "      <td>NaN</td>\n",
       "      <td>NaN</td>\n",
       "      <td>NaN</td>\n",
       "      <td>NaN</td>\n",
       "      <td>NaN</td>\n",
       "      <td>NaN</td>\n",
       "      <td>NaN</td>\n",
       "      <td>NaN</td>\n",
       "    </tr>\n",
       "    <tr>\n",
       "      <th>17375</th>\n",
       "      <td>17376</td>\n",
       "      <td>NaN</td>\n",
       "      <td>NaN</td>\n",
       "      <td>NaN</td>\n",
       "      <td>NaN</td>\n",
       "      <td>NaN</td>\n",
       "      <td>NaN</td>\n",
       "      <td>NaN</td>\n",
       "      <td>NaN</td>\n",
       "      <td>NaN</td>\n",
       "      <td>NaN</td>\n",
       "      <td>NaN</td>\n",
       "      <td>NaN</td>\n",
       "      <td>NaN</td>\n",
       "      <td>NaN</td>\n",
       "      <td>NaN</td>\n",
       "      <td>NaN</td>\n",
       "    </tr>\n",
       "    <tr>\n",
       "      <th>17376</th>\n",
       "      <td>17377</td>\n",
       "      <td>NaN</td>\n",
       "      <td>NaN</td>\n",
       "      <td>NaN</td>\n",
       "      <td>NaN</td>\n",
       "      <td>NaN</td>\n",
       "      <td>NaN</td>\n",
       "      <td>NaN</td>\n",
       "      <td>NaN</td>\n",
       "      <td>NaN</td>\n",
       "      <td>NaN</td>\n",
       "      <td>NaN</td>\n",
       "      <td>NaN</td>\n",
       "      <td>NaN</td>\n",
       "      <td>NaN</td>\n",
       "      <td>NaN</td>\n",
       "      <td>NaN</td>\n",
       "    </tr>\n",
       "    <tr>\n",
       "      <th>17377</th>\n",
       "      <td>17378</td>\n",
       "      <td>NaN</td>\n",
       "      <td>NaN</td>\n",
       "      <td>NaN</td>\n",
       "      <td>NaN</td>\n",
       "      <td>NaN</td>\n",
       "      <td>NaN</td>\n",
       "      <td>NaN</td>\n",
       "      <td>NaN</td>\n",
       "      <td>NaN</td>\n",
       "      <td>NaN</td>\n",
       "      <td>NaN</td>\n",
       "      <td>NaN</td>\n",
       "      <td>NaN</td>\n",
       "      <td>NaN</td>\n",
       "      <td>NaN</td>\n",
       "      <td>NaN</td>\n",
       "    </tr>\n",
       "    <tr>\n",
       "      <th>17378</th>\n",
       "      <td>17379</td>\n",
       "      <td>NaN</td>\n",
       "      <td>NaN</td>\n",
       "      <td>NaN</td>\n",
       "      <td>NaN</td>\n",
       "      <td>NaN</td>\n",
       "      <td>NaN</td>\n",
       "      <td>NaN</td>\n",
       "      <td>NaN</td>\n",
       "      <td>NaN</td>\n",
       "      <td>NaN</td>\n",
       "      <td>NaN</td>\n",
       "      <td>NaN</td>\n",
       "      <td>NaN</td>\n",
       "      <td>NaN</td>\n",
       "      <td>NaN</td>\n",
       "      <td>NaN</td>\n",
       "    </tr>\n",
       "  </tbody>\n",
       "</table>\n",
       "<p>17379 rows × 17 columns</p>\n",
       "</div>"
      ],
      "text/plain": [
       "       instant     dteday  season   yr  mnth    hr  holiday  weekday  \\\n",
       "0            1   1/1/2011     3.0  1.0   5.0  16.0      0.0      6.0   \n",
       "1            2   1/1/2012     NaN  NaN   7.0  17.0      NaN      NaN   \n",
       "2            3  1/10/2011     NaN  NaN   NaN   NaN      NaN      NaN   \n",
       "3            4  1/11/2012     NaN  NaN   NaN   NaN      NaN      NaN   \n",
       "4            5  1/12/2012     NaN  NaN   NaN   NaN      NaN      NaN   \n",
       "...        ...        ...     ...  ...   ...   ...      ...      ...   \n",
       "17374    17375        NaN     NaN  NaN   NaN   NaN      NaN      NaN   \n",
       "17375    17376        NaN     NaN  NaN   NaN   NaN      NaN      NaN   \n",
       "17376    17377        NaN     NaN  NaN   NaN   NaN      NaN      NaN   \n",
       "17377    17378        NaN     NaN  NaN   NaN   NaN      NaN      NaN   \n",
       "17378    17379        NaN     NaN  NaN   NaN   NaN      NaN      NaN   \n",
       "\n",
       "       workingday  weathersit  temp   atemp   hum  windspeed  casual  \\\n",
       "0             1.0         1.0  0.62  0.6212  0.88        0.0     0.0   \n",
       "1             NaN         NaN   NaN     NaN   NaN        NaN     NaN   \n",
       "2             NaN         NaN   NaN     NaN   NaN        NaN     NaN   \n",
       "3             NaN         NaN   NaN     NaN   NaN        NaN     NaN   \n",
       "4             NaN         NaN   NaN     NaN   NaN        NaN     NaN   \n",
       "...           ...         ...   ...     ...   ...        ...     ...   \n",
       "17374         NaN         NaN   NaN     NaN   NaN        NaN     NaN   \n",
       "17375         NaN         NaN   NaN     NaN   NaN        NaN     NaN   \n",
       "17376         NaN         NaN   NaN     NaN   NaN        NaN     NaN   \n",
       "17377         NaN         NaN   NaN     NaN   NaN        NaN     NaN   \n",
       "17378         NaN         NaN   NaN     NaN   NaN        NaN     NaN   \n",
       "\n",
       "       registered  cnt  \n",
       "0             4.0  5.0  \n",
       "1             NaN  NaN  \n",
       "2             NaN  NaN  \n",
       "3             NaN  NaN  \n",
       "4             NaN  NaN  \n",
       "...           ...  ...  \n",
       "17374         NaN  NaN  \n",
       "17375         NaN  NaN  \n",
       "17376         NaN  NaN  \n",
       "17377         NaN  NaN  \n",
       "17378         NaN  NaN  \n",
       "\n",
       "[17379 rows x 17 columns]"
      ]
     },
     "execution_count": 53,
     "metadata": {},
     "output_type": "execute_result"
    }
   ],
   "source": [
    "bikes.mode()"
   ]
  },
  {
   "cell_type": "code",
   "execution_count": 54,
   "id": "ddfdacce-a9a1-4504-91a6-381da26e0225",
   "metadata": {},
   "outputs": [],
   "source": [
    "## What does the mode tell us? The most frequently occurring value in each column.\n",
    "## This is useful for season, year, month, hour, holiday, workingday, weekday, and weathersit. That's because these have \n",
    "## already been dummy coded, so we can see which \"bins\" have the most frequently occurring values.\n",
    "## For example: The most commonly occurring season is 3, or fall. The year is 1, or 2012. The month is 5, or May.\n",
    "## The weekday is 6, or Saturday. Workingday is 1, or \"yes\" (M-F). And weathersit is 1, or \"sunny.\""
   ]
  },
  {
   "cell_type": "markdown",
   "id": "5a261f06-02e4-487c-b183-f2c21e3e216f",
   "metadata": {},
   "source": [
    "#### Max"
   ]
  },
  {
   "cell_type": "code",
   "execution_count": 55,
   "id": "a88a1887-05ec-4884-8878-712c1366be95",
   "metadata": {},
   "outputs": [
    {
     "data": {
      "text/plain": [
       "instant          17379\n",
       "dteday        9/9/2012\n",
       "season               4\n",
       "yr                   1\n",
       "mnth                12\n",
       "hr                  23\n",
       "holiday              1\n",
       "weekday              6\n",
       "workingday           1\n",
       "weathersit           4\n",
       "temp               1.0\n",
       "atemp              1.0\n",
       "hum                1.0\n",
       "windspeed       0.8507\n",
       "casual             367\n",
       "registered         886\n",
       "cnt                977\n",
       "dtype: object"
      ]
     },
     "execution_count": 55,
     "metadata": {},
     "output_type": "execute_result"
    }
   ],
   "source": [
    "bikes.max()"
   ]
  },
  {
   "cell_type": "code",
   "execution_count": 56,
   "id": "8a84789a-42da-40bc-939f-a7a735f9d0cc",
   "metadata": {},
   "outputs": [],
   "source": [
    "## Now we can see that the maximum values for the rental categories are way off from the averages, which might explain why\n",
    "## our average and median values are so different. And that windspeed looks downright hurricane-like. (An error?)"
   ]
  },
  {
   "cell_type": "markdown",
   "id": "adae259e-ca63-4ad7-90a5-234dc8cf814a",
   "metadata": {},
   "source": [
    "#### Min"
   ]
  },
  {
   "cell_type": "code",
   "execution_count": 57,
   "id": "c41ef301-7f8f-4d58-abb6-e8912a5a24d0",
   "metadata": {},
   "outputs": [
    {
     "data": {
      "text/plain": [
       "instant              1\n",
       "dteday        1/1/2011\n",
       "season               1\n",
       "yr                   0\n",
       "mnth                 1\n",
       "hr                   0\n",
       "holiday              0\n",
       "weekday              0\n",
       "workingday           0\n",
       "weathersit           1\n",
       "temp              0.02\n",
       "atemp              0.0\n",
       "hum                0.0\n",
       "windspeed          0.0\n",
       "casual               0\n",
       "registered           0\n",
       "cnt                  1\n",
       "dtype: object"
      ]
     },
     "execution_count": 57,
     "metadata": {},
     "output_type": "execute_result"
    }
   ],
   "source": [
    "bikes.min()"
   ]
  },
  {
   "cell_type": "code",
   "execution_count": 58,
   "id": "960980b1-7fcf-423b-aac7-0711cd7cc619",
   "metadata": {},
   "outputs": [],
   "source": [
    "## The minimum amounts dont' tell us much other than there were some really cold days (2 degrees), and the lowest number\n",
    "## of rentals was 1. "
   ]
  },
  {
   "cell_type": "markdown",
   "id": "6871a6fa-e351-4fc8-b3b2-d405d773c18f",
   "metadata": {},
   "source": [
    "#### Standard Deviation"
   ]
  },
  {
   "cell_type": "code",
   "execution_count": 59,
   "id": "8b5ba4d4-b0af-4080-8149-0ba268aee6d0",
   "metadata": {},
   "outputs": [
    {
     "name": "stderr",
     "output_type": "stream",
     "text": [
      "C:\\Users\\Helly\\AppData\\Local\\Temp/ipykernel_17712/2440403260.py:1: FutureWarning: Dropping of nuisance columns in DataFrame reductions (with 'numeric_only=None') is deprecated; in a future version this will raise TypeError.  Select only valid columns before calling the reduction.\n",
      "  bikes.std()\n"
     ]
    },
    {
     "data": {
      "text/plain": [
       "instant       5017.029500\n",
       "season           1.106918\n",
       "yr               0.500008\n",
       "mnth             3.438776\n",
       "hr               6.914405\n",
       "holiday          0.167165\n",
       "weekday          2.005771\n",
       "workingday       0.465431\n",
       "weathersit       0.639357\n",
       "temp             0.192556\n",
       "atemp            0.171850\n",
       "hum              0.192930\n",
       "windspeed        0.122340\n",
       "casual          49.305030\n",
       "registered     151.357286\n",
       "cnt            181.387599\n",
       "dtype: float64"
      ]
     },
     "execution_count": 59,
     "metadata": {},
     "output_type": "execute_result"
    }
   ],
   "source": [
    "bikes.std()"
   ]
  },
  {
   "cell_type": "code",
   "execution_count": 63,
   "id": "2d0622f4-2e0a-4cdc-858e-0cb420ce4b10",
   "metadata": {},
   "outputs": [],
   "source": [
    "## Here we can see the standard deviation for each category. This is not particularly useful for the dummy coded variables,\n",
    "## but we can see that it is helpful for Temp, aTemp, Windspeed, Casual, Registered, and Cnt.\n",
    "## What does a standard deviation mean, given a normal distribution of data? \n",
    "    ## 68% of our data will fall into one standard deviation of the mean;\n",
    "    ## 95% within 2 standard deviations of the mean;\n",
    "    ## 99.5% within 3 standard deviations of the mean.\n",
    "## So for example, 68% of our rental counts (cnt) should fall between 8 and 370, given a mean of 189."
   ]
  },
  {
   "cell_type": "markdown",
   "id": "7cb1813a-431a-4329-b63a-4c7b33d68828",
   "metadata": {},
   "source": [
    "#### Percentiles"
   ]
  },
  {
   "cell_type": "code",
   "execution_count": 65,
   "id": "cda1370a-92aa-41fe-a6bc-4970d06c647d",
   "metadata": {},
   "outputs": [
    {
     "name": "stdout",
     "output_type": "stream",
     "text": [
      "        instant  season   yr  mnth    hr  holiday  weekday  workingday  \\\n",
      "0.250   4345.50     2.0  0.0   4.0   6.0      0.0      1.0         0.0   \n",
      "0.500   8690.00     3.0  1.0   7.0  12.0      0.0      3.0         1.0   \n",
      "0.750  13034.50     3.0  1.0  10.0  18.0      0.0      5.0         1.0   \n",
      "0.950  16510.10     4.0  1.0  12.0  22.0      0.0      6.0         1.0   \n",
      "0.995  17292.11     4.0  1.0  12.0  23.0      1.0      6.0         1.0   \n",
      "\n",
      "       weathersit  temp   atemp   hum  windspeed  casual  registered     cnt  \n",
      "0.250         1.0  0.34  0.3333  0.48     0.1045     4.0        34.0   40.00  \n",
      "0.500         1.0  0.50  0.4848  0.63     0.1940    17.0       115.0  142.00  \n",
      "0.750         2.0  0.66  0.6212  0.78     0.2537    48.0       220.0  281.00  \n",
      "0.950         3.0  0.80  0.7424  0.93     0.4179   138.1       465.0  563.10  \n",
      "0.995         3.0  0.90  0.8485  1.00     0.5821   267.0       749.0  835.22  \n"
     ]
    }
   ],
   "source": [
    "print(bikes.quantile(q=[0.25, 0.5, 0.75, 0.95, 0.995]))"
   ]
  },
  {
   "cell_type": "code",
   "execution_count": 66,
   "id": "06848fde-dcec-4a3f-b842-fe6e48f93610",
   "metadata": {},
   "outputs": [],
   "source": [
    "## The top row isn't very helpful here because these are already dummy coded.\n",
    "## However, we can see in the bottom row the 25th, 50th, 75th, 95th, and 95.5th percentiles for our counted data.\n",
    "## Looking at cnt again, it appears that the 75th percentile is 281 while the 90th is 563, meaning that this data seems heavily\n",
    "## clustered in the 100-300 counts. I am betting this is positively skewed."
   ]
  },
  {
   "cell_type": "markdown",
   "id": "a263cafe-4122-4133-b595-914d0a7fa905",
   "metadata": {},
   "source": [
    "### Check the types of variables using the dtype function. Transfer object types as needed."
   ]
  },
  {
   "cell_type": "code",
   "execution_count": 67,
   "id": "d2b9ad46-07a9-41eb-a06b-c277a3cdc0ba",
   "metadata": {},
   "outputs": [
    {
     "data": {
      "text/plain": [
       "instant         int64\n",
       "dteday         object\n",
       "season          int64\n",
       "yr              int64\n",
       "mnth            int64\n",
       "hr              int64\n",
       "holiday         int64\n",
       "weekday         int64\n",
       "workingday      int64\n",
       "weathersit      int64\n",
       "temp          float64\n",
       "atemp         float64\n",
       "hum           float64\n",
       "windspeed     float64\n",
       "casual          int64\n",
       "registered      int64\n",
       "cnt             int64\n",
       "dtype: object"
      ]
     },
     "execution_count": 67,
     "metadata": {},
     "output_type": "execute_result"
    }
   ],
   "source": [
    "bikes.dtypes"
   ]
  },
  {
   "cell_type": "code",
   "execution_count": 68,
   "id": "7fe7be1d-0138-4514-ad39-a3a3032ac9db",
   "metadata": {},
   "outputs": [],
   "source": [
    "## The 'dteday' column is an object instead of an integer or float. I will convert it to datetime."
   ]
  },
  {
   "cell_type": "code",
   "execution_count": 69,
   "id": "35759126-5b48-4f80-839c-9dec15a176b2",
   "metadata": {},
   "outputs": [],
   "source": [
    "bikes['dteday'] = pd.to_datetime(bikes['dteday'])"
   ]
  },
  {
   "cell_type": "markdown",
   "id": "6b6e7dba-a7df-44f2-a823-88c088763433",
   "metadata": {},
   "source": [
    "### Recheck all data types using the dtypes function."
   ]
  },
  {
   "cell_type": "code",
   "execution_count": 70,
   "id": "29b9c1e6-8766-4713-876d-c4bb69d26811",
   "metadata": {},
   "outputs": [
    {
     "data": {
      "text/plain": [
       "instant                int64\n",
       "dteday        datetime64[ns]\n",
       "season                 int64\n",
       "yr                     int64\n",
       "mnth                   int64\n",
       "hr                     int64\n",
       "holiday                int64\n",
       "weekday                int64\n",
       "workingday             int64\n",
       "weathersit             int64\n",
       "temp                 float64\n",
       "atemp                float64\n",
       "hum                  float64\n",
       "windspeed            float64\n",
       "casual                 int64\n",
       "registered             int64\n",
       "cnt                    int64\n",
       "dtype: object"
      ]
     },
     "execution_count": 70,
     "metadata": {},
     "output_type": "execute_result"
    }
   ],
   "source": [
    "bikes.dtypes"
   ]
  },
  {
   "cell_type": "markdown",
   "id": "d9839e0b-1973-4f1c-a7ee-22d585140fbe",
   "metadata": {},
   "source": [
    "### getdummies of categorical variables"
   ]
  },
  {
   "cell_type": "code",
   "execution_count": 71,
   "id": "c62c7936-220b-4336-bde0-a6896b9bfd2f",
   "metadata": {},
   "outputs": [],
   "source": [
    "## We already know that we have dummy coded variables; however, we will do this\n",
    "## to make sure we have it coded in our data frame.\n",
    "## getdummies of the following: season, weathersit"
   ]
  },
  {
   "cell_type": "code",
   "execution_count": 72,
   "id": "657fde1e-2733-4198-a63e-87c4247b8ced",
   "metadata": {},
   "outputs": [],
   "source": [
    "seasonDummy = pd.get_dummies(bikes['season'], drop_first=True)"
   ]
  },
  {
   "cell_type": "code",
   "execution_count": 73,
   "id": "27cad450-7033-4120-be01-f686e6997df2",
   "metadata": {},
   "outputs": [
    {
     "data": {
      "text/html": [
       "<div>\n",
       "<style scoped>\n",
       "    .dataframe tbody tr th:only-of-type {\n",
       "        vertical-align: middle;\n",
       "    }\n",
       "\n",
       "    .dataframe tbody tr th {\n",
       "        vertical-align: top;\n",
       "    }\n",
       "\n",
       "    .dataframe thead th {\n",
       "        text-align: right;\n",
       "    }\n",
       "</style>\n",
       "<table border=\"1\" class=\"dataframe\">\n",
       "  <thead>\n",
       "    <tr style=\"text-align: right;\">\n",
       "      <th></th>\n",
       "      <th>2</th>\n",
       "      <th>3</th>\n",
       "      <th>4</th>\n",
       "    </tr>\n",
       "  </thead>\n",
       "  <tbody>\n",
       "    <tr>\n",
       "      <th>0</th>\n",
       "      <td>0</td>\n",
       "      <td>0</td>\n",
       "      <td>0</td>\n",
       "    </tr>\n",
       "    <tr>\n",
       "      <th>1</th>\n",
       "      <td>0</td>\n",
       "      <td>0</td>\n",
       "      <td>0</td>\n",
       "    </tr>\n",
       "    <tr>\n",
       "      <th>2</th>\n",
       "      <td>0</td>\n",
       "      <td>0</td>\n",
       "      <td>0</td>\n",
       "    </tr>\n",
       "    <tr>\n",
       "      <th>3</th>\n",
       "      <td>0</td>\n",
       "      <td>0</td>\n",
       "      <td>0</td>\n",
       "    </tr>\n",
       "    <tr>\n",
       "      <th>4</th>\n",
       "      <td>0</td>\n",
       "      <td>0</td>\n",
       "      <td>0</td>\n",
       "    </tr>\n",
       "  </tbody>\n",
       "</table>\n",
       "</div>"
      ],
      "text/plain": [
       "   2  3  4\n",
       "0  0  0  0\n",
       "1  0  0  0\n",
       "2  0  0  0\n",
       "3  0  0  0\n",
       "4  0  0  0"
      ]
     },
     "execution_count": 73,
     "metadata": {},
     "output_type": "execute_result"
    }
   ],
   "source": [
    "seasonDummy.head()"
   ]
  },
  {
   "cell_type": "code",
   "execution_count": 74,
   "id": "85bf40cf-33ba-4845-be51-8bfe80e17fc4",
   "metadata": {},
   "outputs": [],
   "source": [
    "weathersitDummy = pd.get_dummies(bikes['weathersit'], drop_first=True)"
   ]
  },
  {
   "cell_type": "code",
   "execution_count": 75,
   "id": "96e37872-0e96-4ec7-86a0-a1c05cfe66fc",
   "metadata": {},
   "outputs": [
    {
     "data": {
      "text/html": [
       "<div>\n",
       "<style scoped>\n",
       "    .dataframe tbody tr th:only-of-type {\n",
       "        vertical-align: middle;\n",
       "    }\n",
       "\n",
       "    .dataframe tbody tr th {\n",
       "        vertical-align: top;\n",
       "    }\n",
       "\n",
       "    .dataframe thead th {\n",
       "        text-align: right;\n",
       "    }\n",
       "</style>\n",
       "<table border=\"1\" class=\"dataframe\">\n",
       "  <thead>\n",
       "    <tr style=\"text-align: right;\">\n",
       "      <th></th>\n",
       "      <th>2</th>\n",
       "      <th>3</th>\n",
       "      <th>4</th>\n",
       "    </tr>\n",
       "  </thead>\n",
       "  <tbody>\n",
       "    <tr>\n",
       "      <th>0</th>\n",
       "      <td>0</td>\n",
       "      <td>0</td>\n",
       "      <td>0</td>\n",
       "    </tr>\n",
       "    <tr>\n",
       "      <th>1</th>\n",
       "      <td>0</td>\n",
       "      <td>0</td>\n",
       "      <td>0</td>\n",
       "    </tr>\n",
       "    <tr>\n",
       "      <th>2</th>\n",
       "      <td>0</td>\n",
       "      <td>0</td>\n",
       "      <td>0</td>\n",
       "    </tr>\n",
       "    <tr>\n",
       "      <th>3</th>\n",
       "      <td>0</td>\n",
       "      <td>0</td>\n",
       "      <td>0</td>\n",
       "    </tr>\n",
       "    <tr>\n",
       "      <th>4</th>\n",
       "      <td>0</td>\n",
       "      <td>0</td>\n",
       "      <td>0</td>\n",
       "    </tr>\n",
       "  </tbody>\n",
       "</table>\n",
       "</div>"
      ],
      "text/plain": [
       "   2  3  4\n",
       "0  0  0  0\n",
       "1  0  0  0\n",
       "2  0  0  0\n",
       "3  0  0  0\n",
       "4  0  0  0"
      ]
     },
     "execution_count": 75,
     "metadata": {},
     "output_type": "execute_result"
    }
   ],
   "source": [
    "weathersitDummy.head()"
   ]
  },
  {
   "cell_type": "markdown",
   "id": "794ef3fe-2682-4af8-a69f-b595773c388c",
   "metadata": {},
   "source": [
    "### Check for missing values"
   ]
  },
  {
   "cell_type": "code",
   "execution_count": 76,
   "id": "c6d532bb-c5e8-46ab-b618-6d761ed49e71",
   "metadata": {},
   "outputs": [
    {
     "name": "stdout",
     "output_type": "stream",
     "text": [
      "       instant  dteday  season     yr   mnth     hr  holiday  weekday  \\\n",
      "0        False   False   False  False  False  False    False    False   \n",
      "1        False   False   False  False  False  False    False    False   \n",
      "2        False   False   False  False  False  False    False    False   \n",
      "3        False   False   False  False  False  False    False    False   \n",
      "4        False   False   False  False  False  False    False    False   \n",
      "...        ...     ...     ...    ...    ...    ...      ...      ...   \n",
      "17374    False   False   False  False  False  False    False    False   \n",
      "17375    False   False   False  False  False  False    False    False   \n",
      "17376    False   False   False  False  False  False    False    False   \n",
      "17377    False   False   False  False  False  False    False    False   \n",
      "17378    False   False   False  False  False  False    False    False   \n",
      "\n",
      "       workingday  weathersit   temp  atemp    hum  windspeed  casual  \\\n",
      "0           False       False  False  False  False      False   False   \n",
      "1           False       False  False  False  False      False   False   \n",
      "2           False       False  False  False  False      False   False   \n",
      "3           False       False  False  False  False      False   False   \n",
      "4           False       False  False  False  False      False   False   \n",
      "...           ...         ...    ...    ...    ...        ...     ...   \n",
      "17374       False       False  False  False  False      False   False   \n",
      "17375       False       False  False  False  False      False   False   \n",
      "17376       False       False  False  False  False      False   False   \n",
      "17377       False       False  False  False  False      False   False   \n",
      "17378       False       False  False  False  False      False   False   \n",
      "\n",
      "       registered    cnt  \n",
      "0           False  False  \n",
      "1           False  False  \n",
      "2           False  False  \n",
      "3           False  False  \n",
      "4           False  False  \n",
      "...           ...    ...  \n",
      "17374       False  False  \n",
      "17375       False  False  \n",
      "17376       False  False  \n",
      "17377       False  False  \n",
      "17378       False  False  \n",
      "\n",
      "[17379 rows x 17 columns]\n"
     ]
    }
   ],
   "source": [
    "print(bikes.isna())"
   ]
  },
  {
   "cell_type": "code",
   "execution_count": 77,
   "id": "ae7e927c-2be1-42d6-9a29-14f26207099d",
   "metadata": {},
   "outputs": [],
   "source": [
    "bikesClean = bikes.dropna(axis='columns')"
   ]
  },
  {
   "cell_type": "code",
   "execution_count": 78,
   "id": "d6194e45-cdb5-4b5a-b063-a233d4e790d9",
   "metadata": {},
   "outputs": [
    {
     "data": {
      "text/html": [
       "<div>\n",
       "<style scoped>\n",
       "    .dataframe tbody tr th:only-of-type {\n",
       "        vertical-align: middle;\n",
       "    }\n",
       "\n",
       "    .dataframe tbody tr th {\n",
       "        vertical-align: top;\n",
       "    }\n",
       "\n",
       "    .dataframe thead th {\n",
       "        text-align: right;\n",
       "    }\n",
       "</style>\n",
       "<table border=\"1\" class=\"dataframe\">\n",
       "  <thead>\n",
       "    <tr style=\"text-align: right;\">\n",
       "      <th></th>\n",
       "      <th>instant</th>\n",
       "      <th>dteday</th>\n",
       "      <th>season</th>\n",
       "      <th>yr</th>\n",
       "      <th>mnth</th>\n",
       "      <th>hr</th>\n",
       "      <th>holiday</th>\n",
       "      <th>weekday</th>\n",
       "      <th>workingday</th>\n",
       "      <th>weathersit</th>\n",
       "      <th>temp</th>\n",
       "      <th>atemp</th>\n",
       "      <th>hum</th>\n",
       "      <th>windspeed</th>\n",
       "      <th>casual</th>\n",
       "      <th>registered</th>\n",
       "      <th>cnt</th>\n",
       "    </tr>\n",
       "  </thead>\n",
       "  <tbody>\n",
       "    <tr>\n",
       "      <th>0</th>\n",
       "      <td>1</td>\n",
       "      <td>2011-01-01</td>\n",
       "      <td>1</td>\n",
       "      <td>0</td>\n",
       "      <td>1</td>\n",
       "      <td>0</td>\n",
       "      <td>0</td>\n",
       "      <td>6</td>\n",
       "      <td>0</td>\n",
       "      <td>1</td>\n",
       "      <td>0.24</td>\n",
       "      <td>0.2879</td>\n",
       "      <td>0.81</td>\n",
       "      <td>0.0</td>\n",
       "      <td>3</td>\n",
       "      <td>13</td>\n",
       "      <td>16</td>\n",
       "    </tr>\n",
       "    <tr>\n",
       "      <th>1</th>\n",
       "      <td>2</td>\n",
       "      <td>2011-01-01</td>\n",
       "      <td>1</td>\n",
       "      <td>0</td>\n",
       "      <td>1</td>\n",
       "      <td>1</td>\n",
       "      <td>0</td>\n",
       "      <td>6</td>\n",
       "      <td>0</td>\n",
       "      <td>1</td>\n",
       "      <td>0.22</td>\n",
       "      <td>0.2727</td>\n",
       "      <td>0.80</td>\n",
       "      <td>0.0</td>\n",
       "      <td>8</td>\n",
       "      <td>32</td>\n",
       "      <td>40</td>\n",
       "    </tr>\n",
       "    <tr>\n",
       "      <th>2</th>\n",
       "      <td>3</td>\n",
       "      <td>2011-01-01</td>\n",
       "      <td>1</td>\n",
       "      <td>0</td>\n",
       "      <td>1</td>\n",
       "      <td>2</td>\n",
       "      <td>0</td>\n",
       "      <td>6</td>\n",
       "      <td>0</td>\n",
       "      <td>1</td>\n",
       "      <td>0.22</td>\n",
       "      <td>0.2727</td>\n",
       "      <td>0.80</td>\n",
       "      <td>0.0</td>\n",
       "      <td>5</td>\n",
       "      <td>27</td>\n",
       "      <td>32</td>\n",
       "    </tr>\n",
       "    <tr>\n",
       "      <th>3</th>\n",
       "      <td>4</td>\n",
       "      <td>2011-01-01</td>\n",
       "      <td>1</td>\n",
       "      <td>0</td>\n",
       "      <td>1</td>\n",
       "      <td>3</td>\n",
       "      <td>0</td>\n",
       "      <td>6</td>\n",
       "      <td>0</td>\n",
       "      <td>1</td>\n",
       "      <td>0.24</td>\n",
       "      <td>0.2879</td>\n",
       "      <td>0.75</td>\n",
       "      <td>0.0</td>\n",
       "      <td>3</td>\n",
       "      <td>10</td>\n",
       "      <td>13</td>\n",
       "    </tr>\n",
       "    <tr>\n",
       "      <th>4</th>\n",
       "      <td>5</td>\n",
       "      <td>2011-01-01</td>\n",
       "      <td>1</td>\n",
       "      <td>0</td>\n",
       "      <td>1</td>\n",
       "      <td>4</td>\n",
       "      <td>0</td>\n",
       "      <td>6</td>\n",
       "      <td>0</td>\n",
       "      <td>1</td>\n",
       "      <td>0.24</td>\n",
       "      <td>0.2879</td>\n",
       "      <td>0.75</td>\n",
       "      <td>0.0</td>\n",
       "      <td>0</td>\n",
       "      <td>1</td>\n",
       "      <td>1</td>\n",
       "    </tr>\n",
       "  </tbody>\n",
       "</table>\n",
       "</div>"
      ],
      "text/plain": [
       "   instant     dteday  season  yr  mnth  hr  holiday  weekday  workingday  \\\n",
       "0        1 2011-01-01       1   0     1   0        0        6           0   \n",
       "1        2 2011-01-01       1   0     1   1        0        6           0   \n",
       "2        3 2011-01-01       1   0     1   2        0        6           0   \n",
       "3        4 2011-01-01       1   0     1   3        0        6           0   \n",
       "4        5 2011-01-01       1   0     1   4        0        6           0   \n",
       "\n",
       "   weathersit  temp   atemp   hum  windspeed  casual  registered  cnt  \n",
       "0           1  0.24  0.2879  0.81        0.0       3          13   16  \n",
       "1           1  0.22  0.2727  0.80        0.0       8          32   40  \n",
       "2           1  0.22  0.2727  0.80        0.0       5          27   32  \n",
       "3           1  0.24  0.2879  0.75        0.0       3          10   13  \n",
       "4           1  0.24  0.2879  0.75        0.0       0           1    1  "
      ]
     },
     "execution_count": 78,
     "metadata": {},
     "output_type": "execute_result"
    }
   ],
   "source": [
    "bikesClean.head()"
   ]
  },
  {
   "cell_type": "markdown",
   "id": "1cabe72d-b7c2-4794-a787-3b262f582f1c",
   "metadata": {},
   "source": [
    "### Check the Distribution of Variables and Check Outliers"
   ]
  },
  {
   "cell_type": "code",
   "execution_count": 79,
   "id": "8c6fa37b-8415-43ee-8cd6-ca7dfd247d0c",
   "metadata": {},
   "outputs": [
    {
     "name": "stderr",
     "output_type": "stream",
     "text": [
      "C:\\Users\\Helly\\anaconda3\\lib\\site-packages\\seaborn\\distributions.py:2619: FutureWarning: `distplot` is a deprecated function and will be removed in a future version. Please adapt your code to use either `displot` (a figure-level function with similar flexibility) or `histplot` (an axes-level function for histograms).\n",
      "  warnings.warn(msg, FutureWarning)\n"
     ]
    },
    {
     "data": {
      "image/png": "[encoded data removed]",
      "text/plain": [
       "<Figure size 432x288 with 1 Axes>"
      ]
     },
     "metadata": {
      "needs_background": "light"
     },
     "output_type": "display_data"
    }
   ],
   "source": [
    "casualBikesHist = sns.distplot(bikesClean[\"casual\"], fit = norm, kde=False)"
   ]
  },
  {
   "cell_type": "code",
   "execution_count": null,
   "id": "5d2a2d51-5636-4e5d-8e95-b9e0ce85fbbc",
   "metadata": {},
   "outputs": [],
   "source": [
    "## The casual count is definitely positively skewed. Let's check the registered count."
   ]
  },
  {
   "cell_type": "code",
   "execution_count": 79,
   "id": "6c6c1c19-c0ff-456a-a107-481a8ee79f8e",
   "metadata": {},
   "outputs": [
    {
     "name": "stderr",
     "output_type": "stream",
     "text": [
      "C:\\Users\\Helly\\anaconda3\\lib\\site-packages\\seaborn\\distributions.py:2619: FutureWarning: `distplot` is a deprecated function and will be removed in a future version. Please adapt your code to use either `displot` (a figure-level function with similar flexibility) or `histplot` (an axes-level function for histograms).\n",
      "  warnings.warn(msg, FutureWarning)\n"
     ]
    },
    {
     "data": {
      "image/png": "[encoded data removed]",
      "text/plain": [
       "<Figure size 432x288 with 1 Axes>"
      ]
     },
     "metadata": {
      "needs_background": "light"
     },
     "output_type": "display_data"
    }
   ],
   "source": [
    "registeredBikesHist = sns.distplot(bikesClean[\"registered\"], fit=norm, kde=False)"
   ]
  },
  {
   "cell_type": "code",
   "execution_count": 80,
   "id": "79bb5dd8-039c-4ae2-bdde-372310600fca",
   "metadata": {},
   "outputs": [],
   "source": [
    "## The registered count is also positively skewed. This means our cnt (total) will also be positively skewed."
   ]
  },
  {
   "cell_type": "code",
   "execution_count": 81,
   "id": "a0a1cc8a-ad69-4966-a338-45e8680d032c",
   "metadata": {},
   "outputs": [
    {
     "name": "stderr",
     "output_type": "stream",
     "text": [
      "C:\\Users\\Helly\\anaconda3\\lib\\site-packages\\seaborn\\distributions.py:2619: FutureWarning: `distplot` is a deprecated function and will be removed in a future version. Please adapt your code to use either `displot` (a figure-level function with similar flexibility) or `histplot` (an axes-level function for histograms).\n",
      "  warnings.warn(msg, FutureWarning)\n"
     ]
    },
    {
     "data": {
      "image/png": "[encoded data removed]",
      "text/plain": [
       "<Figure size 432x288 with 1 Axes>"
      ]
     },
     "metadata": {
      "needs_background": "light"
     },
     "output_type": "display_data"
    }
   ],
   "source": [
    "cntBikesHist = sns.distplot(bikesClean[\"cnt\"], fit=norm, kde=False)"
   ]
  },
  {
   "cell_type": "code",
   "execution_count": 83,
   "id": "8ce6fe70-e6c1-4af5-8bb4-85b07987ce07",
   "metadata": {},
   "outputs": [],
   "source": [
    "## The count is indeed positively skewed. There are some outliers causing the shape of our data to be more platykurtic."
   ]
  }
 ],
 "metadata": {
  "kernelspec": {
   "display_name": "Python 3 (ipykernel)",
   "language": "python",
   "name": "python3"
  },
  "language_info": {
   "codemirror_mode": {
    "name": "ipython",
    "version": 3
   },
   "file_extension": ".py",
   "mimetype": "text/x-python",
   "name": "python",
   "nbconvert_exporter": "python",
   "pygments_lexer": "ipython3",
   "version": "3.9.7"
  }
 },
 "nbformat": 4,
 "nbformat_minor": 5
}
