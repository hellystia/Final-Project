{
 "cells": [
  {
   "cell_type": "code",
   "execution_count": 120,
   "id": "074fd637-b025-4598-858c-8599a0562857",
   "metadata": {},
   "outputs": [],
   "source": [
    "## Git Hub Repo: https://github.com/hellystia/Final-Project"
   ]
  },
  {
   "cell_type": "markdown",
   "id": "4b6336d7-e71d-4fcd-ae63-a73b5e1d8ed3",
   "metadata": {},
   "source": [
    "# Machine Learning for Rental Predictions"
   ]
  },
  {
   "cell_type": "code",
   "execution_count": 121,
   "id": "0b1e3d4d-e301-4003-b27a-c76250e5f857",
   "metadata": {},
   "outputs": [],
   "source": [
    "import pandas as pd\n",
    "from sklearn.linear_model import LinearRegression\n",
    "from sklearn.model_selection import train_test_split\n",
    "import matplotlib.pyplot as plt\n",
    "%matplotlib inline\n",
    "from sklearn import metrics\n",
    "import numpy as np\n",
    "from sklearn.model_selection import KFold\n",
    "from sklearn.model_selection import cross_val_score"
   ]
  },
  {
   "cell_type": "code",
   "execution_count": 122,
   "id": "caaa34cc-0470-45ac-a613-434847f82bc8",
   "metadata": {},
   "outputs": [],
   "source": [
    "bikes = pd.read_csv(\"C:/Users/Helly/Desktop/Final Project/hour.csv\")"
   ]
  },
  {
   "cell_type": "code",
   "execution_count": 123,
   "id": "1aa3494c-f701-415a-91c2-201874b68766",
   "metadata": {},
   "outputs": [
    {
     "data": {
      "text/html": [
       "<div>\n",
       "<style scoped>\n",
       "    .dataframe tbody tr th:only-of-type {\n",
       "        vertical-align: middle;\n",
       "    }\n",
       "\n",
       "    .dataframe tbody tr th {\n",
       "        vertical-align: top;\n",
       "    }\n",
       "\n",
       "    .dataframe thead th {\n",
       "        text-align: right;\n",
       "    }\n",
       "</style>\n",
       "<table border=\"1\" class=\"dataframe\">\n",
       "  <thead>\n",
       "    <tr style=\"text-align: right;\">\n",
       "      <th></th>\n",
       "      <th>instant</th>\n",
       "      <th>dteday</th>\n",
       "      <th>season</th>\n",
       "      <th>yr</th>\n",
       "      <th>mnth</th>\n",
       "      <th>hr</th>\n",
       "      <th>holiday</th>\n",
       "      <th>weekday</th>\n",
       "      <th>workingday</th>\n",
       "      <th>weathersit</th>\n",
       "      <th>temp</th>\n",
       "      <th>atemp</th>\n",
       "      <th>hum</th>\n",
       "      <th>windspeed</th>\n",
       "      <th>casual</th>\n",
       "      <th>registered</th>\n",
       "      <th>cnt</th>\n",
       "    </tr>\n",
       "  </thead>\n",
       "  <tbody>\n",
       "    <tr>\n",
       "      <th>0</th>\n",
       "      <td>1</td>\n",
       "      <td>1/1/2011</td>\n",
       "      <td>1</td>\n",
       "      <td>0</td>\n",
       "      <td>1</td>\n",
       "      <td>0</td>\n",
       "      <td>0</td>\n",
       "      <td>6</td>\n",
       "      <td>0</td>\n",
       "      <td>1</td>\n",
       "      <td>0.24</td>\n",
       "      <td>0.2879</td>\n",
       "      <td>0.81</td>\n",
       "      <td>0.0</td>\n",
       "      <td>3</td>\n",
       "      <td>13</td>\n",
       "      <td>16</td>\n",
       "    </tr>\n",
       "    <tr>\n",
       "      <th>1</th>\n",
       "      <td>2</td>\n",
       "      <td>1/1/2011</td>\n",
       "      <td>1</td>\n",
       "      <td>0</td>\n",
       "      <td>1</td>\n",
       "      <td>1</td>\n",
       "      <td>0</td>\n",
       "      <td>6</td>\n",
       "      <td>0</td>\n",
       "      <td>1</td>\n",
       "      <td>0.22</td>\n",
       "      <td>0.2727</td>\n",
       "      <td>0.80</td>\n",
       "      <td>0.0</td>\n",
       "      <td>8</td>\n",
       "      <td>32</td>\n",
       "      <td>40</td>\n",
       "    </tr>\n",
       "    <tr>\n",
       "      <th>2</th>\n",
       "      <td>3</td>\n",
       "      <td>1/1/2011</td>\n",
       "      <td>1</td>\n",
       "      <td>0</td>\n",
       "      <td>1</td>\n",
       "      <td>2</td>\n",
       "      <td>0</td>\n",
       "      <td>6</td>\n",
       "      <td>0</td>\n",
       "      <td>1</td>\n",
       "      <td>0.22</td>\n",
       "      <td>0.2727</td>\n",
       "      <td>0.80</td>\n",
       "      <td>0.0</td>\n",
       "      <td>5</td>\n",
       "      <td>27</td>\n",
       "      <td>32</td>\n",
       "    </tr>\n",
       "    <tr>\n",
       "      <th>3</th>\n",
       "      <td>4</td>\n",
       "      <td>1/1/2011</td>\n",
       "      <td>1</td>\n",
       "      <td>0</td>\n",
       "      <td>1</td>\n",
       "      <td>3</td>\n",
       "      <td>0</td>\n",
       "      <td>6</td>\n",
       "      <td>0</td>\n",
       "      <td>1</td>\n",
       "      <td>0.24</td>\n",
       "      <td>0.2879</td>\n",
       "      <td>0.75</td>\n",
       "      <td>0.0</td>\n",
       "      <td>3</td>\n",
       "      <td>10</td>\n",
       "      <td>13</td>\n",
       "    </tr>\n",
       "    <tr>\n",
       "      <th>4</th>\n",
       "      <td>5</td>\n",
       "      <td>1/1/2011</td>\n",
       "      <td>1</td>\n",
       "      <td>0</td>\n",
       "      <td>1</td>\n",
       "      <td>4</td>\n",
       "      <td>0</td>\n",
       "      <td>6</td>\n",
       "      <td>0</td>\n",
       "      <td>1</td>\n",
       "      <td>0.24</td>\n",
       "      <td>0.2879</td>\n",
       "      <td>0.75</td>\n",
       "      <td>0.0</td>\n",
       "      <td>0</td>\n",
       "      <td>1</td>\n",
       "      <td>1</td>\n",
       "    </tr>\n",
       "  </tbody>\n",
       "</table>\n",
       "</div>"
      ],
      "text/plain": [
       "   instant    dteday  season  yr  mnth  hr  holiday  weekday  workingday  \\\n",
       "0        1  1/1/2011       1   0     1   0        0        6           0   \n",
       "1        2  1/1/2011       1   0     1   1        0        6           0   \n",
       "2        3  1/1/2011       1   0     1   2        0        6           0   \n",
       "3        4  1/1/2011       1   0     1   3        0        6           0   \n",
       "4        5  1/1/2011       1   0     1   4        0        6           0   \n",
       "\n",
       "   weathersit  temp   atemp   hum  windspeed  casual  registered  cnt  \n",
       "0           1  0.24  0.2879  0.81        0.0       3          13   16  \n",
       "1           1  0.22  0.2727  0.80        0.0       8          32   40  \n",
       "2           1  0.22  0.2727  0.80        0.0       5          27   32  \n",
       "3           1  0.24  0.2879  0.75        0.0       3          10   13  \n",
       "4           1  0.24  0.2879  0.75        0.0       0           1    1  "
      ]
     },
     "execution_count": 123,
     "metadata": {},
     "output_type": "execute_result"
    }
   ],
   "source": [
    "bikes.head()"
   ]
  },
  {
   "cell_type": "markdown",
   "id": "08094a0d-2414-4d2a-b75d-3c7161c348be",
   "metadata": {},
   "source": [
    "## Check Data Types"
   ]
  },
  {
   "cell_type": "code",
   "execution_count": 124,
   "id": "b62290f7-8a79-4db4-bb69-8ad08e8d9a41",
   "metadata": {},
   "outputs": [
    {
     "data": {
      "text/plain": [
       "instant         int64\n",
       "dteday         object\n",
       "season          int64\n",
       "yr              int64\n",
       "mnth            int64\n",
       "hr              int64\n",
       "holiday         int64\n",
       "weekday         int64\n",
       "workingday      int64\n",
       "weathersit      int64\n",
       "temp          float64\n",
       "atemp         float64\n",
       "hum           float64\n",
       "windspeed     float64\n",
       "casual          int64\n",
       "registered      int64\n",
       "cnt             int64\n",
       "dtype: object"
      ]
     },
     "execution_count": 124,
     "metadata": {},
     "output_type": "execute_result"
    }
   ],
   "source": [
    "bikes.dtypes"
   ]
  },
  {
   "cell_type": "markdown",
   "id": "cf319011-de50-4616-aa11-a9ed25fa807e",
   "metadata": {},
   "source": [
    "### Drop instant, dteday, casual, and registered to make this easier for the machine learning model."
   ]
  },
  {
   "cell_type": "code",
   "execution_count": 125,
   "id": "3ecfded0-34e4-41bf-a86c-6cc10ec2b025",
   "metadata": {},
   "outputs": [],
   "source": [
    "x = bikes[['yr', 'mnth', 'hr', 'holiday', 'weekday', 'workingday', 'weathersit', 'atemp', 'hum', 'windspeed']]"
   ]
  },
  {
   "cell_type": "code",
   "execution_count": 126,
   "id": "5c6008fe-1919-407a-b9c7-f4bfd2450f70",
   "metadata": {},
   "outputs": [],
   "source": [
    "y = bikes['cnt']"
   ]
  },
  {
   "cell_type": "code",
   "execution_count": 127,
   "id": "b923f3ac-423e-44bd-8b03-9f528627ac59",
   "metadata": {},
   "outputs": [],
   "source": [
    "## I've defined my x variables and y variables so I can see how the x variables will predict Y."
   ]
  },
  {
   "cell_type": "markdown",
   "id": "104204c6-f6e1-413d-acea-9c6e8dc304ac",
   "metadata": {},
   "source": [
    "### Define Train/Test Split"
   ]
  },
  {
   "cell_type": "code",
   "execution_count": 128,
   "id": "4d99f729-d863-49b8-a0f8-f1321469a82f",
   "metadata": {},
   "outputs": [],
   "source": [
    "x_train, x_test, y_train, y_test = train_test_split(x,y, test_size = .4)"
   ]
  },
  {
   "cell_type": "code",
   "execution_count": 129,
   "id": "610f197e-67b3-4b8f-8d82-67422d430cab",
   "metadata": {},
   "outputs": [
    {
     "name": "stdout",
     "output_type": "stream",
     "text": [
      "(10427, 10) (10427,)\n",
      "(6952, 10) (6952,)\n"
     ]
    }
   ],
   "source": [
    "print(x_train.shape, y_train.shape)\n",
    "print(x_test.shape, y_test.shape)"
   ]
  },
  {
   "cell_type": "markdown",
   "id": "aed05d90-fac4-481e-8a07-78d756fdd410",
   "metadata": {},
   "source": [
    "## Create a Linear Regression Model "
   ]
  },
  {
   "cell_type": "code",
   "execution_count": 130,
   "id": "5f1b311b-26a3-49ce-abe6-e11b9e1c623c",
   "metadata": {},
   "outputs": [
    {
     "data": {
      "text/plain": [
       "LinearRegression()"
      ]
     },
     "execution_count": 130,
     "metadata": {},
     "output_type": "execute_result"
    }
   ],
   "source": [
    "lm = LinearRegression()\n",
    "lm.fit(x_train, y_train)"
   ]
  },
  {
   "cell_type": "markdown",
   "id": "45322100-bd73-4d55-b391-42dac179098b",
   "metadata": {},
   "source": [
    "### Examine predictions the machine learning algorithm has made about the model."
   ]
  },
  {
   "cell_type": "code",
   "execution_count": 131,
   "id": "aabaca9d-f445-44fa-984a-41e0b80ac3c4",
   "metadata": {},
   "outputs": [
    {
     "data": {
      "text/plain": [
       "array([278.46355767, 145.43481669, 276.91066269, ..., 430.11092397,\n",
       "        78.69741798, 128.51294351])"
      ]
     },
     "execution_count": 131,
     "metadata": {},
     "output_type": "execute_result"
    }
   ],
   "source": [
    "predictions = lm.predict(x_test)\n",
    "predictions"
   ]
  },
  {
   "cell_type": "markdown",
   "id": "43b79c8e-6dd2-4f03-a0f7-c99381169d01",
   "metadata": {},
   "source": [
    "### Look at a plot of the model!"
   ]
  },
  {
   "cell_type": "code",
   "execution_count": 132,
   "id": "09ea015f-7693-4f47-8a9e-94fff9d15a17",
   "metadata": {},
   "outputs": [
    {
     "data": {
      "text/plain": [
       "<matplotlib.collections.PathCollection at 0x1ce23ac16a0>"
      ]
     },
     "execution_count": 132,
     "metadata": {},
     "output_type": "execute_result"
    },
    {
     "data": {
      "image/png": "[encoded data removed]",
      "text/plain": [
       "<Figure size 432x288 with 1 Axes>"
      ]
     },
     "metadata": {
      "needs_background": "light"
     },
     "output_type": "display_data"
    }
   ],
   "source": [
    "plt.scatter(y_test, predictions)"
   ]
  },
  {
   "cell_type": "markdown",
   "id": "c104889b-461d-4bbb-9814-abd06690c608",
   "metadata": {},
   "source": [
    "### How accurate is this?"
   ]
  },
  {
   "cell_type": "code",
   "execution_count": 133,
   "id": "45450bf7-7e8f-424a-b954-fa4f9230e351",
   "metadata": {},
   "outputs": [
    {
     "name": "stdout",
     "output_type": "stream",
     "text": [
      "Score: 0.37031243161882754\n"
     ]
    }
   ],
   "source": [
    "print(\"Score:\", lm.score(x_test, y_test))"
   ]
  },
  {
   "cell_type": "code",
   "execution_count": 134,
   "id": "3826d17e-bfef-47e1-b029-0ccae79b456e",
   "metadata": {},
   "outputs": [],
   "source": [
    "## Only 38% accurate without the other two variables: casual and registered."
   ]
  },
  {
   "cell_type": "markdown",
   "id": "6e90b4e0-862c-4e81-b55f-381d2e82546e",
   "metadata": {},
   "source": [
    "### Checking the Mean Squared Error"
   ]
  },
  {
   "cell_type": "code",
   "execution_count": 135,
   "id": "33befdc6-34b9-474f-8d40-dd03d2d9d036",
   "metadata": {},
   "outputs": [
    {
     "data": {
      "text/plain": [
       "142.949776218118"
      ]
     },
     "execution_count": 135,
     "metadata": {},
     "output_type": "execute_result"
    }
   ],
   "source": [
    "np.sqrt(metrics.mean_squared_error(y_test, predictions))"
   ]
  },
  {
   "cell_type": "code",
   "execution_count": 136,
   "id": "8f828f00-02e7-4120-8c07-487bd6208729",
   "metadata": {},
   "outputs": [],
   "source": [
    "## The value should be closer to zero. So there's probably a bit of error in this."
   ]
  },
  {
   "cell_type": "markdown",
   "id": "ef2aa5d1-7541-48cf-b85c-d97821a26a68",
   "metadata": {},
   "source": [
    "## Try Using K-Fold Cross-Validation"
   ]
  },
  {
   "cell_type": "code",
   "execution_count": 137,
   "id": "83a0a232-50dd-438f-ae5f-5798c384bc6a",
   "metadata": {},
   "outputs": [
    {
     "name": "stdout",
     "output_type": "stream",
     "text": [
      "train: [    0     1     2 ... 17374 17377 17378], test: [    4     5     6 ... 17372 17375 17376]\n",
      "train: [    0     1     2 ... 17376 17377 17378], test: [    7    12    17 ... 17360 17364 17370]\n",
      "train: [    0     3     4 ... 17376 17377 17378], test: [    1     2    10 ... 17368 17373 17374]\n",
      "train: [    0     1     2 ... 17375 17376 17377], test: [    3     8     9 ... 17367 17369 17378]\n",
      "train: [    1     2     3 ... 17375 17376 17378], test: [    0    14    15 ... 17366 17371 17377]\n"
     ]
    },
    {
     "name": "stderr",
     "output_type": "stream",
     "text": [
      "C:\\Users\\Helly\\anaconda3\\lib\\site-packages\\sklearn\\utils\\validation.py:70: FutureWarning: Pass shuffle=True, random_state=1 as keyword args. From version 1.0 (renaming of 0.25) passing these as positional arguments will result in an error\n",
      "  warnings.warn(f\"Pass {args_msg} as keyword args. From version \"\n"
     ]
    }
   ],
   "source": [
    "kfold = KFold(5, True, 1)\n",
    "for train, test in kfold.split(x,y):\n",
    "    print('train: %s, test: %s' % (train,test))"
   ]
  },
  {
   "cell_type": "code",
   "execution_count": 138,
   "id": "58697114-992c-4fd3-9c3f-8ec576e6ae21",
   "metadata": {},
   "outputs": [
    {
     "name": "stdout",
     "output_type": "stream",
     "text": [
      "[0.25698579 0.29406949 0.29077327]\n"
     ]
    }
   ],
   "source": [
    "print(cross_val_score(lm, x,y, cv=3))"
   ]
  },
  {
   "cell_type": "code",
   "execution_count": 139,
   "id": "5a64482f-8043-4a96-ba5b-2aaccec425b7",
   "metadata": {},
   "outputs": [],
   "source": [
    "## Using K-Folds to test different iterations of the model. Now it is less accurate.\n",
    "\n",
    "## Overall, this just tells me it would be hard to predict sales based on environmental factors because even with the full\n",
    "## dataset, we are seeing that not everything is accounted for. We do not have data on price, marketing, etc. So I would\n",
    "## guess that these unaccounted items are playing a big role, moreso than the environment."
   ]
  }
 ],
 "metadata": {
  "kernelspec": {
   "display_name": "Python 3 (ipykernel)",
   "language": "python",
   "name": "python3"
  },
  "language_info": {
   "codemirror_mode": {
    "name": "ipython",
    "version": 3
   },
   "file_extension": ".py",
   "mimetype": "text/x-python",
   "name": "python",
   "nbconvert_exporter": "python",
   "pygments_lexer": "ipython3",
   "version": "3.9.7"
  }
 },
 "nbformat": 4,
 "nbformat_minor": 5
}
