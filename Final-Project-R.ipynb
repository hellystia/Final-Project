{
 "cells": [
  {
   "cell_type": "markdown",
   "id": "55571dea-e1c2-4ba8-96bd-9f4ad0a1d701",
   "metadata": {},
   "source": [
    "## Stepwise Multinomial Linear Regression"
   ]
  },
  {
   "cell_type": "markdown",
   "id": "d94b46e3-ea7c-4095-9681-c3fd2bbdee51",
   "metadata": {},
   "source": [
    "### Load in Libraries"
   ]
  },
  {
   "cell_type": "code",
   "execution_count": 6,
   "id": "4349b303-8fd3-4a95-83f2-7622b7009cc7",
   "metadata": {},
   "outputs": [],
   "source": [
    "## Unsure?"
   ]
  },
  {
   "cell_type": "code",
   "execution_count": 7,
   "id": "f30c7427-a306-4ed8-8a04-e79007c9dacc",
   "metadata": {},
   "outputs": [],
   "source": [
    "BikesData <- read.csv(\"C:/Users/Helly/Desktop/Final Project/hour.csv\")"
   ]
  },
  {
   "cell_type": "markdown",
   "id": "5238b300-1c14-466e-b82b-1f31a0cca52c",
   "metadata": {},
   "source": [
    "### Wrangle data for Testing."
   ]
  },
  {
   "cell_type": "code",
   "execution_count": 35,
   "id": "c184799c-05eb-416c-94fa-e26298d3c09c",
   "metadata": {},
   "outputs": [],
   "source": [
    "## Remove the instant and dteday columns as they have too many unique values to pass assumptions.\n",
    "## Remove the registered and casual counts--they will mess up the model because they ALWAYS fit perfectly!"
   ]
  },
  {
   "cell_type": "code",
   "execution_count": 36,
   "id": "4ecee7b2-6a5d-479b-9fd8-40d3cf0e8ffc",
   "metadata": {},
   "outputs": [],
   "source": [
    "BikesData1 <- BikesData[ -c(1:2, 15:16) ]"
   ]
  },
  {
   "cell_type": "markdown",
   "id": "ea2babc3-458a-4822-96af-cffacd860a6c",
   "metadata": {},
   "source": [
    "### Test for Assumptions"
   ]
  },
  {
   "cell_type": "code",
   "execution_count": null,
   "id": "83df6687-4315-4e40-9cc5-d5b60bad3dad",
   "metadata": {},
   "outputs": [],
   "source": []
  },
  {
   "cell_type": "markdown",
   "id": "795b27e2-8ccd-4909-8011-e033fd4770fb",
   "metadata": {},
   "source": [
    "### Backwards Elimination"
   ]
  },
  {
   "cell_type": "code",
   "execution_count": 37,
   "id": "022afbeb-aff5-4d0a-82f1-c30c67a7b231",
   "metadata": {},
   "outputs": [],
   "source": [
    "## Starting with backwards elimination, then we will move on to forwards, then hybrid. "
   ]
  },
  {
   "cell_type": "code",
   "execution_count": 38,
   "id": "0ffef896-0c22-465b-b075-72542fed80e5",
   "metadata": {},
   "outputs": [],
   "source": [
    "BackwardsModel = lm(cnt ~., data = BikesData1)"
   ]
  },
  {
   "cell_type": "code",
   "execution_count": 39,
   "id": "ada0769b-7894-45e1-bb0e-c61b581c42b7",
   "metadata": {},
   "outputs": [
    {
     "data": {
      "text/plain": [
       "\n",
       "Call:\n",
       "lm(formula = cnt ~ ., data = BikesData1)\n",
       "\n",
       "Residuals:\n",
       "    Min      1Q  Median      3Q     Max \n",
       "-388.01  -93.40  -27.58   60.68  642.06 \n",
       "\n",
       "Coefficients:\n",
       "              Estimate Std. Error t value Pr(>|t|)    \n",
       "(Intercept) -2.576e+01  7.057e+00  -3.650 0.000263 ***\n",
       "season       1.990e+01  1.819e+00  10.941  < 2e-16 ***\n",
       "yr           8.109e+01  2.164e+00  37.463  < 2e-16 ***\n",
       "mnth        -8.648e-03  5.672e-01  -0.015 0.987834    \n",
       "hr           7.671e+00  1.649e-01  46.513  < 2e-16 ***\n",
       "holiday     -2.188e+01  6.694e+00  -3.268 0.001084 ** \n",
       "weekday      1.878e+00  5.407e-01   3.474 0.000514 ***\n",
       "workingday   3.939e+00  2.396e+00   1.644 0.100126    \n",
       "weathersit  -3.432e+00  1.905e+00  -1.802 0.071558 .  \n",
       "temp         7.815e+01  3.696e+01   2.115 0.034478 *  \n",
       "atemp        2.332e+02  4.152e+01   5.616 1.99e-08 ***\n",
       "hum         -1.982e+02  6.889e+00 -28.770  < 2e-16 ***\n",
       "windspeed    4.157e+01  9.628e+00   4.317 1.59e-05 ***\n",
       "---\n",
       "Signif. codes:  0 '***' 0.001 '**' 0.01 '*' 0.05 '.' 0.1 ' ' 1\n",
       "\n",
       "Residual standard error: 141.8 on 17366 degrees of freedom\n",
       "Multiple R-squared:  0.3889,\tAdjusted R-squared:  0.3884 \n",
       "F-statistic: 920.8 on 12 and 17366 DF,  p-value: < 2.2e-16\n"
      ]
     },
     "metadata": {},
     "output_type": "display_data"
    }
   ],
   "source": [
    "summary(BackwardsModel)"
   ]
  },
  {
   "cell_type": "code",
   "execution_count": 40,
   "id": "567042c3-e7f5-4f23-8e67-254e65b3d51a",
   "metadata": {},
   "outputs": [],
   "source": [
    "## In our initial model, we can see that there are lots of significant factors:\n",
    "## The season, the year, the hour of day, whether it's a weekday or holiday, the temp and \"actual\" temp, \n",
    "## and the humidity and windspeed.\n",
    "\n",
    "## We will make a note of this, but continue on with our analysis. This is just cursory."
   ]
  },
  {
   "cell_type": "code",
   "execution_count": 41,
   "id": "c0ea9890-537f-44f0-8b2c-7871115eb26e",
   "metadata": {},
   "outputs": [
    {
     "name": "stdout",
     "output_type": "stream",
     "text": [
      "Start:  AIC=172230.8\n",
      "cnt ~ season + yr + mnth + hr + holiday + weekday + workingday + \n",
      "    weathersit + temp + atemp + hum + windspeed\n",
      "\n",
      "             Df Sum of Sq       RSS    AIC\n",
      "- mnth        1         5 349427304 172229\n",
      "<none>                    349427299 172231\n",
      "- workingday  1     54404 349481703 172232\n",
      "- weathersit  1     65340 349492639 172232\n",
      "- temp        1     89973 349517272 172233\n",
      "- holiday     1    214933 349642232 172240\n",
      "- weekday     1    242842 349670141 172241\n",
      "- windspeed   1    374974 349802273 172247\n",
      "- atemp       1    634599 350061898 172260\n",
      "- season      1   2408781 351836080 172348\n",
      "- hum         1  16654289 366081588 173038\n",
      "- yr          1  28239331 377666630 173579\n",
      "- hr          1  43531221 392958520 174269\n",
      "\n",
      "Step:  AIC=172228.8\n",
      "cnt ~ season + yr + hr + holiday + weekday + workingday + weathersit + \n",
      "    temp + atemp + hum + windspeed\n",
      "\n",
      "             Df Sum of Sq       RSS    AIC\n",
      "<none>                    349427304 172229\n",
      "- workingday  1     54423 349481726 172230\n",
      "- weathersit  1     65335 349492639 172230\n",
      "- temp        1     89980 349517283 172231\n",
      "- holiday     1    215431 349642734 172238\n",
      "- weekday     1    242991 349670294 172239\n",
      "- windspeed   1    374996 349802300 172245\n",
      "- atemp       1    634749 350062053 172258\n",
      "- season      1   7238308 356665611 172583\n",
      "- hum         1  16718627 366145931 173039\n",
      "- yr          1  28240906 377668210 173578\n",
      "- hr          1  43579558 393006861 174269\n"
     ]
    },
    {
     "data": {
      "text/plain": [
       "\n",
       "Call:\n",
       "lm(formula = cnt ~ season + yr + hr + holiday + weekday + workingday + \n",
       "    weathersit + temp + atemp + hum + windspeed, data = BikesData1)\n",
       "\n",
       "Coefficients:\n",
       "(Intercept)       season           yr           hr      holiday      weekday  \n",
       "    -25.757       19.877       81.087        7.671      -21.884        1.878  \n",
       " workingday   weathersit         temp        atemp          hum    windspeed  \n",
       "      3.940       -3.432       78.152      233.165     -198.191       41.566  \n"
      ]
     },
     "metadata": {},
     "output_type": "display_data"
    }
   ],
   "source": [
    "step(BackwardsModel, direction=\"backward\")"
   ]
  },
  {
   "cell_type": "code",
   "execution_count": 42,
   "id": "3ae96039-1d7f-40d6-9d29-ed5c96c05348",
   "metadata": {},
   "outputs": [],
   "source": [
    "## The Backwards Elimination results tell us that our AIC starts very large to begin with (172,230).\n",
    "## It ranks season, year, hour, holiday, weekday, workingday, weather, temp, atemp, windspeed."
   ]
  },
  {
   "cell_type": "markdown",
   "id": "f34495b3-e0fe-4193-b85a-96a30abda5aa",
   "metadata": {},
   "source": [
    "#### Final Interpretation of the Backward Stepwise Regression Model:"
   ]
  },
  {
   "cell_type": "code",
   "execution_count": 43,
   "id": "e5d8aede-4a1f-4f98-ae68-b0571d991367",
   "metadata": {},
   "outputs": [],
   "source": [
    "BackwardResults <- lm(formula = cnt ~ season + yr + hr + holiday + weekday + workingday + \n",
    "    weathersit + temp + atemp + hum + windspeed, data = BikesData1)"
   ]
  },
  {
   "cell_type": "code",
   "execution_count": 44,
   "id": "63eab7c4-9404-41d4-8e8d-cf57feb13bda",
   "metadata": {},
   "outputs": [
    {
     "data": {
      "text/plain": [
       "\n",
       "Call:\n",
       "lm(formula = cnt ~ season + yr + hr + holiday + weekday + workingday + \n",
       "    weathersit + temp + atemp + hum + windspeed, data = BikesData1)\n",
       "\n",
       "Residuals:\n",
       "    Min      1Q  Median      3Q     Max \n",
       "-388.00  -93.41  -27.58   60.68  642.07 \n",
       "\n",
       "Coefficients:\n",
       "             Estimate Std. Error t value Pr(>|t|)    \n",
       "(Intercept)  -25.7569     7.0568  -3.650 0.000263 ***\n",
       "season        19.8767     1.0480  18.967  < 2e-16 ***\n",
       "yr            81.0869     2.1643  37.465  < 2e-16 ***\n",
       "hr             7.6705     0.1648  46.540  < 2e-16 ***\n",
       "holiday      -21.8837     6.6878  -3.272 0.001069 ** \n",
       "weekday        1.8781     0.5404   3.475 0.000512 ***\n",
       "workingday     3.9396     2.3954   1.645 0.100059    \n",
       "weathersit    -3.4319     1.9045  -1.802 0.071560 .  \n",
       "temp          78.1520    36.9559   2.115 0.034467 *  \n",
       "atemp        233.1652    41.5125   5.617 1.98e-08 ***\n",
       "hum         -198.1911     6.8754 -28.826  < 2e-16 ***\n",
       "windspeed     41.5660     9.6281   4.317 1.59e-05 ***\n",
       "---\n",
       "Signif. codes:  0 '***' 0.001 '**' 0.01 '*' 0.05 '.' 0.1 ' ' 1\n",
       "\n",
       "Residual standard error: 141.8 on 17367 degrees of freedom\n",
       "Multiple R-squared:  0.3889,\tAdjusted R-squared:  0.3885 \n",
       "F-statistic:  1005 on 11 and 17367 DF,  p-value: < 2.2e-16\n"
      ]
     },
     "metadata": {},
     "output_type": "display_data"
    }
   ],
   "source": [
    "summary(BackwardResults)"
   ]
  },
  {
   "cell_type": "code",
   "execution_count": 56,
   "id": "c7418d44-08b4-4e50-a04e-cc980d52fe1f",
   "metadata": {},
   "outputs": [],
   "source": [
    "## The most statistically significant things on this list are:\n",
    "## Season, year, hour, weekday, actual temp, humidity, and windspeed.\n",
    "## Our adjusted R-Squared only accounts for 38.9% of the variance. Not great.\n",
    "\n",
    "## We will compare these results with the forward selected model and the hybrid model."
   ]
  },
  {
   "cell_type": "markdown",
   "id": "c963246d-52aa-4f6f-be54-a0c281143d6f",
   "metadata": {},
   "source": [
    "### Forward Selection"
   ]
  },
  {
   "cell_type": "code",
   "execution_count": 47,
   "id": "2b03056c-17f7-40fe-9252-52c814e93077",
   "metadata": {},
   "outputs": [],
   "source": [
    "ForwardsModel = lm(cnt ~1, data = BikesData1)"
   ]
  },
  {
   "cell_type": "code",
   "execution_count": 48,
   "id": "50425be7-8e12-4d84-a7f4-786a4ee92820",
   "metadata": {},
   "outputs": [
    {
     "data": {
      "text/plain": [
       "\n",
       "Call:\n",
       "lm(formula = cnt ~ 1, data = BikesData1)\n",
       "\n",
       "Residuals:\n",
       "    Min      1Q  Median      3Q     Max \n",
       "-188.46 -149.46  -47.46   91.54  787.54 \n",
       "\n",
       "Coefficients:\n",
       "            Estimate Std. Error t value Pr(>|t|)    \n",
       "(Intercept)  189.463      1.376   137.7   <2e-16 ***\n",
       "---\n",
       "Signif. codes:  0 '***' 0.001 '**' 0.01 '*' 0.05 '.' 0.1 ' ' 1\n",
       "\n",
       "Residual standard error: 181.4 on 17378 degrees of freedom\n"
      ]
     },
     "metadata": {},
     "output_type": "display_data"
    }
   ],
   "source": [
    "summary(ForwardsModel)"
   ]
  },
  {
   "cell_type": "code",
   "execution_count": 49,
   "id": "be3153f4-1f67-4263-b863-b5c6b0a00827",
   "metadata": {},
   "outputs": [],
   "source": [
    "## This doesn't really tell me much. I'll move onto the Forward Selection."
   ]
  },
  {
   "cell_type": "code",
   "execution_count": 57,
   "id": "e1b23a95-90dd-4428-a092-7b3ae3d39c3b",
   "metadata": {},
   "outputs": [
    {
     "name": "stdout",
     "output_type": "stream",
     "text": [
      "Start:  AIC=180764.7\n",
      "cnt ~ 1\n",
      "\n",
      "             Df Sum of Sq       RSS    AIC\n",
      "+ temp        1  93677759 478083832 177657\n",
      "+ atemp       1  91907421 479854170 177721\n",
      "+ hr          1  88790198 482971393 177834\n",
      "+ yr          1  35876722 535884870 179641\n",
      "+ season      1  18127040 553634551 180207\n",
      "+ weathersit  1  11598301 560163290 180411\n",
      "+ mnth        1   8321115 563440476 180512\n",
      "+ windspeed   1   4970060 566791531 180615\n",
      "+ holiday     1    546889 571214702 180750\n",
      "+ workingday  1    524387 571237204 180751\n",
      "+ weekday     1    413728 571347863 180754\n",
      "<none>                    571761591 180765\n",
      "\n",
      "Step:  AIC=177657\n",
      "cnt ~ temp\n",
      "\n",
      "             Df Sum of Sq       RSS    AIC\n",
      "+ hr          1  66728221 411355610 175046\n",
      "+ yr          1  31342263 446741569 176481\n",
      "+ windspeed   1   6021342 472062489 177439\n",
      "+ weathersit  1   5880680 472203151 177444\n",
      "+ season      1   1696802 476387030 177597\n",
      "+ mnth        1    906463 477177369 177626\n",
      "+ weekday     1    436380 477647452 177643\n",
      "+ holiday     1    225697 477858135 177651\n",
      "<none>                    478083832 177657\n",
      "+ workingday  1     35467 478048365 177658\n",
      "+ atemp       1     30698 478053133 177658\n",
      "\n",
      "Step:  AIC=175046.4\n",
      "cnt ~ temp + hr\n",
      "\n",
      "             Df Sum of Sq       RSS    AIC\n",
      "+ yr          1  32229070 379126540 173631\n",
      "+ weathersit  1   5638993 405716617 174809\n",
      "+ season      1   2995571 408360039 174921\n",
      "+ windspeed   1   1712372 409643238 174976\n",
      "+ mnth        1   1525503 409830107 174984\n",
      "+ weekday     1    472524 410883086 175028\n",
      "+ holiday     1    260174 411095436 175037\n",
      "+ atemp       1     83456 411272154 175045\n",
      "+ workingday  1     54016 411301595 175046\n",
      "<none>                    411355610 175046\n",
      "\n",
      "Step:  AIC=173630.5\n",
      "cnt ~ temp + hr + yr\n",
      "\n",
      "             Df Sum of Sq       RSS    AIC\n",
      "+ weathersit  1   5240157 373886383 173391\n",
      "+ season      1   3515639 375610901 173471\n",
      "+ mnth        1   1811568 377314972 173549\n",
      "+ windspeed   1   1810495 377316045 173549\n",
      "+ weekday     1    507879 378618662 173609\n",
      "+ holiday     1    307712 378818828 173618\n",
      "+ atemp       1    110731 379015810 173627\n",
      "+ workingday  1     66617 379059923 173629\n",
      "<none>                    379126540 173631\n",
      "\n",
      "Step:  AIC=173390.6\n",
      "cnt ~ temp + hr + yr + weathersit\n",
      "\n",
      "             Df Sum of Sq       RSS    AIC\n",
      "+ season      1   3671702 370214681 173221\n",
      "+ mnth        1   1978671 371907712 173300\n",
      "+ windspeed   1   1969135 371917247 173301\n",
      "+ weekday     1    517904 373368479 173369\n",
      "+ holiday     1    360230 373526153 173376\n",
      "+ workingday  1    140201 373746182 173386\n",
      "+ atemp       1     73335 373813047 173389\n",
      "<none>                    373886383 173391\n",
      "\n",
      "Step:  AIC=173221.1\n",
      "cnt ~ temp + hr + yr + weathersit + season\n",
      "\n",
      "             Df Sum of Sq       RSS    AIC\n",
      "+ windspeed   1   2887386 367327295 173087\n",
      "+ weekday     1    524021 369690660 173199\n",
      "+ holiday     1    359459 369855222 173206\n",
      "+ workingday  1    147538 370067143 173216\n",
      "+ mnth        1     93506 370121175 173219\n",
      "<none>                    370214681 173221\n",
      "+ atemp       1     16218 370198463 173222\n",
      "\n",
      "Step:  AIC=173087\n",
      "cnt ~ temp + hr + yr + weathersit + season + windspeed\n",
      "\n",
      "             Df Sum of Sq       RSS    AIC\n",
      "+ weekday     1    495575 366831720 173066\n",
      "+ holiday     1    366246 366961049 173072\n",
      "+ atemp       1    314289 367013006 173074\n",
      "+ workingday  1    163747 367163548 173081\n",
      "+ mnth        1     73768 367253527 173086\n",
      "<none>                    367327295 173087\n",
      "\n",
      "Step:  AIC=173065.6\n",
      "cnt ~ temp + hr + yr + weathersit + season + windspeed + weekday\n",
      "\n",
      "             Df Sum of Sq       RSS    AIC\n",
      "+ atemp       1    350186 366481534 173051\n",
      "+ holiday     1    287385 366544335 173054\n",
      "+ workingday  1    144012 366687708 173061\n",
      "+ mnth        1     82626 366749095 173064\n",
      "<none>                    366831720 173066\n",
      "\n",
      "Step:  AIC=173051\n",
      "cnt ~ temp + hr + yr + weathersit + season + windspeed + weekday + \n",
      "    atemp\n",
      "\n",
      "             Df Sum of Sq       RSS    AIC\n",
      "+ holiday     1    268639 366212896 173040\n",
      "+ workingday  1    144035 366337500 173046\n",
      "+ mnth        1     78965 366402570 173049\n",
      "<none>                    366481534 173051\n",
      "\n",
      "Step:  AIC=173040.2\n",
      "cnt ~ temp + hr + yr + weathersit + season + windspeed + weekday + \n",
      "    atemp + holiday\n",
      "\n",
      "             Df Sum of Sq       RSS    AIC\n",
      "+ workingday  1     66965 366145931 173039\n",
      "+ mnth        1     65875 366147021 173039\n",
      "<none>                    366212896 173040\n",
      "\n",
      "Step:  AIC=173039.1\n",
      "cnt ~ temp + hr + yr + weathersit + season + windspeed + weekday + \n",
      "    atemp + holiday + workingday\n",
      "\n",
      "       Df Sum of Sq       RSS    AIC\n",
      "+ mnth  1     64343 366081588 173038\n",
      "<none>              366145931 173039\n",
      "\n",
      "Step:  AIC=173038\n",
      "cnt ~ temp + hr + yr + weathersit + season + windspeed + weekday + \n",
      "    atemp + holiday + workingday + mnth\n",
      "\n"
     ]
    },
    {
     "data": {
      "text/plain": [
       "\n",
       "Call:\n",
       "lm(formula = cnt ~ temp + hr + yr + weathersit + season + windspeed + \n",
       "    weekday + atemp + holiday + workingday + mnth, data = BikesData1)\n",
       "\n",
       "Coefficients:\n",
       "(Intercept)         temp           hr           yr   weathersit       season  \n",
       "   -138.513      141.795        8.941       86.863      -28.353       18.164  \n",
       "  windspeed      weekday        atemp      holiday   workingday         mnth  \n",
       "    116.325        2.572      168.124      -20.119        4.320       -1.012  \n"
      ]
     },
     "metadata": {},
     "output_type": "display_data"
    }
   ],
   "source": [
    "step(ForwardsModel, direction=\"forward\", scope=(~season + yr + mnth + hr + holiday + weekday + workingday + weathersit + temp + atemp + windspeed))"
   ]
  },
  {
   "cell_type": "code",
   "execution_count": 58,
   "id": "b5207b2b-1b5d-4908-8225-f02e887eacef",
   "metadata": {},
   "outputs": [],
   "source": [
    "## This tells me the order of significance is: \n",
    "## temp, hour, year, weather, season, windspeed, weekday, actual temp, holiday, working day, then month.\n",
    "\n",
    "## Let's look at actual statistical data, however. We obviously do not need every variable."
   ]
  },
  {
   "cell_type": "code",
   "execution_count": 59,
   "id": "10857b07-3c3a-432b-884b-6e1ad7a8e05f",
   "metadata": {},
   "outputs": [],
   "source": [
    "ForwardResults <- lm(formula = cnt ~ temp + hr + yr + weathersit + season + windspeed + \n",
    "    weekday + atemp + holiday + workingday + mnth, data = BikesData1)"
   ]
  },
  {
   "cell_type": "code",
   "execution_count": 60,
   "id": "e3806a72-a023-407f-a386-ae1a951ad5bb",
   "metadata": {},
   "outputs": [
    {
     "data": {
      "text/plain": [
       "\n",
       "Call:\n",
       "lm(formula = cnt ~ temp + hr + yr + weathersit + season + windspeed + \n",
       "    weekday + atemp + holiday + workingday + mnth, data = BikesData1)\n",
       "\n",
       "Residuals:\n",
       "    Min      1Q  Median      3Q     Max \n",
       "-365.48  -96.02  -26.08   63.33  653.76 \n",
       "\n",
       "Coefficients:\n",
       "             Estimate Std. Error t value Pr(>|t|)    \n",
       "(Intercept) -138.5131     6.0067 -23.060  < 2e-16 ***\n",
       "temp         141.7950    37.7588   3.755 0.000174 ***\n",
       "hr             8.9414     0.1626  54.982  < 2e-16 ***\n",
       "yr            86.8630     2.2058  39.379  < 2e-16 ***\n",
       "weathersit   -28.3528     1.7361 -16.331  < 2e-16 ***\n",
       "season        18.1638     1.8605   9.763  < 2e-16 ***\n",
       "windspeed    116.3249     9.4893  12.259  < 2e-16 ***\n",
       "weekday        2.5716     0.5529   4.652 3.32e-06 ***\n",
       "atemp        168.1236    42.4307   3.962 7.45e-05 ***\n",
       "holiday      -20.1192     6.8515  -2.936 0.003324 ** \n",
       "workingday     4.3200     2.4520   1.762 0.078110 .  \n",
       "mnth          -1.0123     0.5794  -1.747 0.080633 .  \n",
       "---\n",
       "Signif. codes:  0 '***' 0.001 '**' 0.01 '*' 0.05 '.' 0.1 ' ' 1\n",
       "\n",
       "Residual standard error: 145.2 on 17367 degrees of freedom\n",
       "Multiple R-squared:  0.3597,\tAdjusted R-squared:  0.3593 \n",
       "F-statistic:   887 on 11 and 17367 DF,  p-value: < 2.2e-16\n"
      ]
     },
     "metadata": {},
     "output_type": "display_data"
    }
   ],
   "source": [
    "summary(ForwardResults)"
   ]
  },
  {
   "cell_type": "code",
   "execution_count": 61,
   "id": "d23ba8fb-5ab7-4ca9-81ac-e1b99b3243a9",
   "metadata": {},
   "outputs": [],
   "source": [
    "## This tells us all but working day and month carry significance. However, note the adjusted R-Squared: \n",
    "## We are only accounting for 35.9% of the variance in the data. This is not a great model."
   ]
  },
  {
   "cell_type": "markdown",
   "id": "995a08d9-ed30-4423-be60-5c5e49ecfb0f",
   "metadata": {},
   "source": [
    "### Hybrid Selection"
   ]
  },
  {
   "cell_type": "code",
   "execution_count": 62,
   "id": "c245ef7f-6f7b-410c-945b-4077b1afcc45",
   "metadata": {},
   "outputs": [
    {
     "name": "stdout",
     "output_type": "stream",
     "text": [
      "Start:  AIC=180764.7\n",
      "cnt ~ 1\n",
      "\n",
      "             Df Sum of Sq       RSS    AIC\n",
      "+ temp        1  93677759 478083832 177657\n",
      "+ atemp       1  91907421 479854170 177721\n",
      "+ hr          1  88790198 482971393 177834\n",
      "+ hum         1  59618351 512143240 178853\n",
      "+ yr          1  35876722 535884870 179641\n",
      "+ season      1  18127040 553634551 180207\n",
      "+ weathersit  1  11598301 560163290 180411\n",
      "+ mnth        1   8321115 563440476 180512\n",
      "+ windspeed   1   4970060 566791531 180615\n",
      "+ holiday     1    546889 571214702 180750\n",
      "+ workingday  1    524387 571237204 180751\n",
      "+ weekday     1    413728 571347863 180754\n",
      "<none>                    571761591 180765\n",
      "\n",
      "Step:  AIC=177657\n",
      "cnt ~ temp\n",
      "\n",
      "             Df Sum of Sq       RSS    AIC\n",
      "+ hr          1  66728221 411355610 175046\n",
      "+ hum         1  49874585 428209247 175744\n",
      "+ yr          1  31342263 446741569 176481\n",
      "+ windspeed   1   6021342 472062489 177439\n",
      "+ weathersit  1   5880680 472203151 177444\n",
      "+ season      1   1696802 476387030 177597\n",
      "+ mnth        1    906463 477177369 177626\n",
      "+ weekday     1    436380 477647452 177643\n",
      "+ holiday     1    225697 477858135 177651\n",
      "<none>                    478083832 177657\n",
      "+ workingday  1     35467 478048365 177658\n",
      "+ atemp       1     30698 478053133 177658\n",
      "- temp        1  93677759 571761591 180765\n",
      "\n",
      "Step:  AIC=175046.4\n",
      "cnt ~ temp + hr\n",
      "\n",
      "             Df Sum of Sq       RSS    AIC\n",
      "+ yr          1  32229070 379126540 173631\n",
      "+ hum         1  25434149 385921461 173939\n",
      "+ weathersit  1   5638993 405716617 174809\n",
      "+ season      1   2995571 408360039 174921\n",
      "+ windspeed   1   1712372 409643238 174976\n",
      "+ mnth        1   1525503 409830107 174984\n",
      "+ weekday     1    472524 410883086 175028\n",
      "+ holiday     1    260174 411095436 175037\n",
      "+ atemp       1     83456 411272154 175045\n",
      "+ workingday  1     54016 411301595 175046\n",
      "<none>                    411355610 175046\n",
      "- hr          1  66728221 478083832 177657\n",
      "- temp        1  71615782 482971393 177834\n",
      "\n",
      "Step:  AIC=173630.5\n",
      "cnt ~ temp + hr + yr\n",
      "\n",
      "             Df Sum of Sq       RSS    AIC\n",
      "+ hum         1  20865128 358261412 172649\n",
      "+ weathersit  1   5240157 373886383 173391\n",
      "+ season      1   3515639 375610901 173471\n",
      "+ mnth        1   1811568 377314972 173549\n",
      "+ windspeed   1   1810495 377316045 173549\n",
      "+ weekday     1    507879 378618662 173609\n",
      "+ holiday     1    307712 378818828 173618\n",
      "+ atemp       1    110731 379015810 173627\n",
      "+ workingday  1     66617 379059923 173629\n",
      "<none>                    379126540 173631\n",
      "- yr          1  32229070 411355610 175046\n",
      "- temp        1  67529751 446656291 176477\n",
      "- hr          1  67615028 446741569 176481\n",
      "\n",
      "Step:  AIC=172648.7\n",
      "cnt ~ temp + hr + yr + hum\n",
      "\n",
      "             Df Sum of Sq       RSS    AIC\n",
      "+ season      1   7325038 350936374 172292\n",
      "+ mnth        1   4840141 353421271 172414\n",
      "+ atemp       1    703020 357558392 172617\n",
      "+ holiday     1    367007 357894405 172633\n",
      "+ weekday     1    279953 357981459 172637\n",
      "+ weathersit  1    133898 358127514 172644\n",
      "+ workingday  1    117604 358143808 172645\n",
      "<none>                    358261412 172649\n",
      "+ windspeed   1     15517 358245895 172650\n",
      "- hum         1  20865128 379126540 173631\n",
      "- yr          1  27660049 385921461 173939\n",
      "- hr          1  44513327 402774739 174682\n",
      "- temp        1  65244191 423505603 175554\n",
      "\n",
      "Step:  AIC=172291.7\n",
      "cnt ~ temp + hr + yr + hum + season\n",
      "\n",
      "             Df Sum of Sq       RSS    AIC\n",
      "+ atemp       1    470550 350465823 172270\n",
      "+ holiday     1    371167 350565206 172275\n",
      "+ weekday     1    266120 350670253 172281\n",
      "+ windspeed   1    165365 350771008 172286\n",
      "+ workingday  1    131868 350804506 172287\n",
      "<none>                    350936374 172292\n",
      "+ weathersit  1     37972 350898402 172292\n",
      "+ mnth        1       799 350935575 172294\n",
      "- season      1   7325038 358261412 172649\n",
      "- hum         1  24674527 375610901 173471\n",
      "- yr          1  27952483 378888856 173622\n",
      "- hr          1  44638916 395575289 174371\n",
      "- temp        1  45665456 396601830 174416\n",
      "\n",
      "Step:  AIC=172270.4\n",
      "cnt ~ temp + hr + yr + hum + season + atemp\n",
      "\n",
      "             Df Sum of Sq       RSS    AIC\n",
      "+ holiday     1    351355 350114468 172255\n",
      "+ windspeed   1    335672 350130152 172256\n",
      "+ weekday     1    296675 350169148 172258\n",
      "+ workingday  1    132865 350332959 172266\n",
      "<none>                    350465823 172270\n",
      "+ weathersit  1     19872 350445952 172271\n",
      "+ mnth        1       356 350465467 172272\n",
      "- temp        1    199285 350665108 172278\n",
      "- atemp       1    470550 350936374 172292\n",
      "- season      1   7092569 357558392 172617\n",
      "- hum         1  25107614 375573437 173471\n",
      "- yr          1  27934804 378400627 173601\n",
      "- hr          1  44474091 394939915 174345\n",
      "\n",
      "Step:  AIC=172255\n",
      "cnt ~ temp + hr + yr + hum + season + atemp + holiday\n",
      "\n",
      "             Df Sum of Sq       RSS    AIC\n",
      "+ windspeed   1    331732 349782736 172240\n",
      "+ weekday     1    235977 349878491 172245\n",
      "+ workingday  1     49576 350064892 172255\n",
      "<none>                    350114468 172255\n",
      "+ weathersit  1     23104 350091364 172256\n",
      "+ mnth        1        64 350114404 172257\n",
      "- temp        1    209624 350324092 172263\n",
      "- holiday     1    351355 350465823 172270\n",
      "- atemp       1    450738 350565206 172275\n",
      "- season      1   7100863 357215331 172602\n",
      "- hum         1  25157885 375272353 173459\n",
      "- yr          1  27976933 378091401 173589\n",
      "- hr          1  44486366 394600834 174332\n",
      "\n",
      "Step:  AIC=172240.5\n",
      "cnt ~ temp + hr + yr + hum + season + atemp + holiday + windspeed\n",
      "\n",
      "             Df Sum of Sq       RSS    AIC\n",
      "+ weekday     1    240808 349541928 172231\n",
      "+ weathersit  1     55632 349727104 172240\n",
      "+ workingday  1     51730 349731006 172240\n",
      "<none>                    349782736 172240\n",
      "+ mnth        1       137 349782599 172242\n",
      "- temp        1    100702 349883438 172244\n",
      "- windspeed   1    331732 350114468 172255\n",
      "- holiday     1    347416 350130152 172256\n",
      "- atemp       1    617128 350399863 172269\n",
      "- season      1   7326312 357109048 172599\n",
      "- hum         1  22488271 372271007 173321\n",
      "- yr          1  28145181 377927917 173583\n",
      "- hr          1  43692641 393475377 174284\n",
      "\n",
      "Step:  AIC=172230.5\n",
      "cnt ~ temp + hr + yr + hum + season + atemp + holiday + windspeed + \n",
      "    weekday\n",
      "\n",
      "             Df Sum of Sq       RSS    AIC\n",
      "+ weathersit  1     60201 349481726 172230\n",
      "+ workingday  1     49288 349492639 172230\n",
      "<none>                    349541928 172231\n",
      "+ mnth        1         7 349541920 172233\n",
      "- temp        1     87525 349629453 172233\n",
      "- weekday     1    240808 349782736 172240\n",
      "- holiday     1    286514 349828442 172243\n",
      "- windspeed   1    336563 349878491 172245\n",
      "- atemp       1    650914 350192841 172261\n",
      "- season      1   7308128 356850056 172588\n",
      "- hum         1  22277106 371819034 173302\n",
      "- yr          1  28182082 377724010 173576\n",
      "- hr          1  43768078 393310005 174279\n",
      "\n",
      "Step:  AIC=172229.5\n",
      "cnt ~ temp + hr + yr + hum + season + atemp + holiday + windspeed + \n",
      "    weekday + weathersit\n",
      "\n",
      "             Df Sum of Sq       RSS    AIC\n",
      "+ workingday  1     54423 349427304 172229\n",
      "<none>                    349481726 172230\n",
      "- weathersit  1     60201 349541928 172231\n",
      "+ mnth        1        23 349481703 172232\n",
      "- temp        1     92272 349573999 172232\n",
      "- weekday     1    245377 349727104 172240\n",
      "- holiday     1    290617 349772344 172242\n",
      "- windspeed   1    370941 349852668 172246\n",
      "- atemp       1    631992 350113718 172259\n",
      "- season      1   7231474 356713201 172583\n",
      "- hum         1  16731169 366212896 173040\n",
      "- yr          1  28234244 377715970 173578\n",
      "- hr          1  43567446 393049172 174269\n",
      "\n",
      "Step:  AIC=172228.8\n",
      "cnt ~ temp + hr + yr + hum + season + atemp + holiday + windspeed + \n",
      "    weekday + weathersit + workingday\n",
      "\n",
      "             Df Sum of Sq       RSS    AIC\n",
      "<none>                    349427304 172229\n",
      "- workingday  1     54423 349481726 172230\n",
      "- weathersit  1     65335 349492639 172230\n",
      "+ mnth        1         5 349427299 172231\n",
      "- temp        1     89980 349517283 172231\n",
      "- holiday     1    215431 349642734 172238\n",
      "- weekday     1    242991 349670294 172239\n",
      "- windspeed   1    374996 349802300 172245\n",
      "- atemp       1    634749 350062053 172258\n",
      "- season      1   7238308 356665611 172583\n",
      "- hum         1  16718627 366145931 173039\n",
      "- yr          1  28240906 377668210 173578\n",
      "- hr          1  43579558 393006861 174269\n"
     ]
    },
    {
     "data": {
      "text/plain": [
       "\n",
       "Call:\n",
       "lm(formula = cnt ~ temp + hr + yr + hum + season + atemp + holiday + \n",
       "    windspeed + weekday + weathersit + workingday, data = BikesData1)\n",
       "\n",
       "Coefficients:\n",
       "(Intercept)         temp           hr           yr          hum       season  \n",
       "    -25.757       78.152        7.671       81.087     -198.191       19.877  \n",
       "      atemp      holiday    windspeed      weekday   weathersit   workingday  \n",
       "    233.165      -21.884       41.566        1.878       -3.432        3.940  \n"
      ]
     },
     "metadata": {},
     "output_type": "display_data"
    }
   ],
   "source": [
    "step(ForwardsModel, direction=\"both\", scope=formula(BackwardsModel))"
   ]
  },
  {
   "cell_type": "code",
   "execution_count": 63,
   "id": "f99049c5-fc50-47d6-9794-c71ec3281e01",
   "metadata": {},
   "outputs": [],
   "source": [
    "## Here we see the model ranks significance as: temp, hour, year, humidity, season, actual temp, holiday, windspeed, weekday, \n",
    "##weather, workingday."
   ]
  },
  {
   "cell_type": "code",
   "execution_count": 64,
   "id": "86bca7ab-e927-418c-b115-bfe7d5440e76",
   "metadata": {},
   "outputs": [],
   "source": [
    "## Let's interpret the final formula it gave us since it was consistent with the forward model."
   ]
  },
  {
   "cell_type": "code",
   "execution_count": 65,
   "id": "53434ca8-45f0-4a4b-8efd-c77e33a58f28",
   "metadata": {},
   "outputs": [],
   "source": [
    "FinalModel <- lm(formula = cnt ~ temp + hr + yr + hum + season + atemp + holiday + \n",
    "    windspeed + weekday + weathersit + workingday, data = BikesData1)"
   ]
  },
  {
   "cell_type": "code",
   "execution_count": 66,
   "id": "3145ed55-70de-4d40-b684-7a3e5e9c9069",
   "metadata": {},
   "outputs": [
    {
     "data": {
      "text/plain": [
       "\n",
       "Call:\n",
       "lm(formula = cnt ~ temp + hr + yr + hum + season + atemp + holiday + \n",
       "    windspeed + weekday + weathersit + workingday, data = BikesData1)\n",
       "\n",
       "Residuals:\n",
       "    Min      1Q  Median      3Q     Max \n",
       "-388.00  -93.41  -27.58   60.68  642.07 \n",
       "\n",
       "Coefficients:\n",
       "             Estimate Std. Error t value Pr(>|t|)    \n",
       "(Intercept)  -25.7569     7.0568  -3.650 0.000263 ***\n",
       "temp          78.1520    36.9559   2.115 0.034467 *  \n",
       "hr             7.6705     0.1648  46.540  < 2e-16 ***\n",
       "yr            81.0869     2.1643  37.465  < 2e-16 ***\n",
       "hum         -198.1911     6.8754 -28.826  < 2e-16 ***\n",
       "season        19.8767     1.0480  18.967  < 2e-16 ***\n",
       "atemp        233.1652    41.5125   5.617 1.98e-08 ***\n",
       "holiday      -21.8837     6.6878  -3.272 0.001069 ** \n",
       "windspeed     41.5660     9.6281   4.317 1.59e-05 ***\n",
       "weekday        1.8781     0.5404   3.475 0.000512 ***\n",
       "weathersit    -3.4319     1.9045  -1.802 0.071560 .  \n",
       "workingday     3.9396     2.3954   1.645 0.100059    \n",
       "---\n",
       "Signif. codes:  0 '***' 0.001 '**' 0.01 '*' 0.05 '.' 0.1 ' ' 1\n",
       "\n",
       "Residual standard error: 141.8 on 17367 degrees of freedom\n",
       "Multiple R-squared:  0.3889,\tAdjusted R-squared:  0.3885 \n",
       "F-statistic:  1005 on 11 and 17367 DF,  p-value: < 2.2e-16\n"
      ]
     },
     "metadata": {},
     "output_type": "display_data"
    }
   ],
   "source": [
    "summary(FinalModel)"
   ]
  },
  {
   "cell_type": "code",
   "execution_count": 67,
   "id": "e6366999-1ac9-4008-bb46-d8f1029de3da",
   "metadata": {},
   "outputs": [],
   "source": [
    "## Here we can see that everything except the weather and workingday are significant. We are accounting for 38.9% of the variance."
   ]
  },
  {
   "cell_type": "markdown",
   "id": "067e09a6-8d06-42fa-8ad4-d7dad540cb3f",
   "metadata": {},
   "source": [
    "## Summary"
   ]
  },
  {
   "cell_type": "markdown",
   "id": "63a49c5d-7c1e-4cb7-8a5c-f433707f3620",
   "metadata": {},
   "source": [
    "<p>\n",
    "Likely, we are gettting low r-squared rates because we removed two enormously influential factors from our analysis:\n",
    "<p>\n",
    "The registered and casual counts.\n",
    "<p>\n",
    "However, R cannot build an accurate model when two variables are a perfect fit for a third. So these must be removed to properly examine the role these other variables play on the number of bikes rented."
   ]
  },
  {
   "cell_type": "markdown",
   "id": "a75aaa53-a1ce-4b38-ac6f-a38f5164536a",
   "metadata": {},
   "source": [
    "### What shall we examine in graphs?"
   ]
  },
  {
   "cell_type": "markdown",
   "id": "ba120c41-8197-4619-8e1e-19bf0dfd6b4d",
   "metadata": {},
   "source": [
    "<p>\n",
    "Moving past our statistical analysis, we'll examine a few things graphically.\n",
    "<p>\n",
    "1) Why is the year significant? Do rental counts increase over time? (Perhaps as the business became more popular?)\n",
    "    <br>\n",
    "    2) Can we examine the less significant factors visually? What do the numbers tell us?\n",
    "    <br>\n",
    "    3) What about time of year? Other factors, such as humidity, temperature, and windspeed, as well as holidays, tend to change seasonally. Where do we draw these lines? Month-by-month? (it would appear not). By Season? By weather trends? By work/school?"
   ]
  },
  {
   "cell_type": "code",
   "execution_count": null,
   "id": "a04452cc-c4e2-4fe3-8d9c-84c6c98016dd",
   "metadata": {},
   "outputs": [],
   "source": []
  },
  {
   "cell_type": "code",
   "execution_count": null,
   "id": "a9954c8e-69c0-42a1-a362-ac80c4ee3cb5",
   "metadata": {},
   "outputs": [],
   "source": []
  }
 ],
 "metadata": {
  "kernelspec": {
   "display_name": "R",
   "language": "R",
   "name": "ir"
  },
  "language_info": {
   "codemirror_mode": "r",
   "file_extension": ".r",
   "mimetype": "text/x-r-source",
   "name": "R",
   "pygments_lexer": "r",
   "version": "4.2.0"
  }
 },
 "nbformat": 4,
 "nbformat_minor": 5
}
